{
 "cells": [
  {
   "cell_type": "markdown",
   "metadata": {
    "colab_type": "text",
    "id": "hjwTAkqgd53e"
   },
   "source": [
    "**Импорт тестового датасета с изображениями**"
   ]
  },
  {
   "cell_type": "code",
   "execution_count": 1,
   "metadata": {
    "colab": {
     "base_uri": "https://localhost:8080/",
     "height": 34
    },
    "colab_type": "code",
    "id": "E8okCFhv1_Os",
    "outputId": "2897a745-c73b-4e92-829d-a26d0562cf08"
   },
   "outputs": [
    {
     "name": "stderr",
     "output_type": "stream",
     "text": [
      "Using TensorFlow backend.\n"
     ]
    }
   ],
   "source": [
    "from keras.datasets import mnist"
   ]
  },
  {
   "cell_type": "code",
   "execution_count": 2,
   "metadata": {
    "colab": {
     "base_uri": "https://localhost:8080/",
     "height": 51
    },
    "colab_type": "code",
    "id": "2J_WPP-IzBGw",
    "outputId": "a1453800-ccfd-4deb-f537-c8d7e227d608"
   },
   "outputs": [
    {
     "name": "stdout",
     "output_type": "stream",
     "text": [
      "Downloading data from https://s3.amazonaws.com/img-datasets/mnist.npz\n",
      "11493376/11490434 [==============================] - 0s 0us/step\n"
     ]
    }
   ],
   "source": [
    "(train_images, train_labels), (test_images, test_labels) = mnist.load_data()"
   ]
  },
  {
   "cell_type": "code",
   "execution_count": 3,
   "metadata": {
    "colab": {
     "base_uri": "https://localhost:8080/",
     "height": 51
    },
    "colab_type": "code",
    "id": "yXXHgL-YzYxc",
    "outputId": "a5c8ab68-8c63-4267-8df3-2da78a17ed0f"
   },
   "outputs": [
    {
     "name": "stdout",
     "output_type": "stream",
     "text": [
      "3\n",
      "(60000, 28, 28)\n"
     ]
    }
   ],
   "source": [
    "print(train_images.ndim)\n",
    "print(train_images.shape)"
   ]
  },
  {
   "cell_type": "code",
   "execution_count": 4,
   "metadata": {
    "colab": {
     "base_uri": "https://localhost:8080/",
     "height": 34
    },
    "colab_type": "code",
    "id": "b-ptBpqKze4_",
    "outputId": "75b159e3-6182-40a4-cb7c-44b4470dd49e"
   },
   "outputs": [
    {
     "data": {
      "text/plain": [
       "dtype('uint8')"
      ]
     },
     "execution_count": 4,
     "metadata": {
      "tags": []
     },
     "output_type": "execute_result"
    }
   ],
   "source": [
    "train_images.dtype"
   ]
  },
  {
   "cell_type": "code",
   "execution_count": 5,
   "metadata": {
    "colab": {
     "base_uri": "https://localhost:8080/",
     "height": 347
    },
    "colab_type": "code",
    "id": "82OQVwU3znJG",
    "outputId": "83982b17-5676-4b6c-bbd5-d10e389bf72f"
   },
   "outputs": [
    {
     "data": {
      "image/png": "[encoded data removed]",
      "text/plain": [
       "<matplotlib.figure.Figure at 0x7f9db306f160>"
      ]
     },
     "metadata": {
      "tags": []
     },
     "output_type": "display_data"
    }
   ],
   "source": [
    "import matplotlib.pyplot as plt\n",
    "\n",
    "digit = train_images[4]\n",
    "plt.imshow(digit, cmap=plt.cm.binary)\n",
    "plt.grid()\n",
    "plt.show()"
   ]
  },
  {
   "cell_type": "code",
   "execution_count": 6,
   "metadata": {
    "colab": {
     "base_uri": "https://localhost:8080/",
     "height": 34
    },
    "colab_type": "code",
    "id": "MSHmjveI0Nfk",
    "outputId": "ab344d8c-59b0-4431-8a9c-6641d125e9c6"
   },
   "outputs": [
    {
     "name": "stdout",
     "output_type": "stream",
     "text": [
      "(90, 28, 28)\n"
     ]
    }
   ],
   "source": [
    "my_slice = train_images[10:100]\n",
    "print(my_slice.shape)"
   ]
  },
  {
   "cell_type": "code",
   "execution_count": 7,
   "metadata": {
    "colab": {
     "base_uri": "https://localhost:8080/",
     "height": 347
    },
    "colab_type": "code",
    "id": "bcpo-6Z00lej",
    "outputId": "dda1c67d-5362-4ce6-b8ff-5f3e16fc22da"
   },
   "outputs": [
    {
     "data": {
      "image/png": "[encoded data removed]",
      "text/plain": [
       "<matplotlib.figure.Figure at 0x7f9db306f4e0>"
      ]
     },
     "metadata": {
      "tags": []
     },
     "output_type": "display_data"
    }
   ],
   "source": [
    "#14x14\n",
    "digit = train_images[4,7:-7,7:-7]\n",
    "plt.imshow(digit, cmap=plt.cm.binary)\n",
    "plt.grid()\n",
    "plt.show()"
   ]
  },
  {
   "cell_type": "code",
   "execution_count": 0,
   "metadata": {
    "colab": {},
    "colab_type": "code",
    "id": "hXhLo_Dm06M-"
   },
   "outputs": [],
   "source": [
    "n=0\n",
    "batch = train_images[128*n : 128*(n+1)]"
   ]
  },
  {
   "cell_type": "markdown",
   "metadata": {
    "colab_type": "text",
    "id": "ZcSWA2qAeA9C"
   },
   "source": [
    "**3.4. Классицифкация отзывов к фильмам: пример бинарной классификации**"
   ]
  },
  {
   "cell_type": "code",
   "execution_count": 0,
   "metadata": {
    "colab": {},
    "colab_type": "code",
    "id": "DExF6w6L1UX1"
   },
   "outputs": [],
   "source": [
    "from keras.datasets import imdb"
   ]
  },
  {
   "cell_type": "code",
   "execution_count": 11,
   "metadata": {
    "colab": {
     "base_uri": "https://localhost:8080/",
     "height": 51
    },
    "colab_type": "code",
    "id": "jKW88RqNeALd",
    "outputId": "bd60dece-5fa9-4c31-8b12-d9ab5c967012"
   },
   "outputs": [
    {
     "name": "stdout",
     "output_type": "stream",
     "text": [
      "Downloading data from https://s3.amazonaws.com/text-datasets/imdb.npz\n",
      "17465344/17464789 [==============================] - 1s 0us/step\n"
     ]
    }
   ],
   "source": [
    "(train_data, train_labels), (test_data, test_labels) = imdb.load_data(num_words=10000)"
   ]
  },
  {
   "cell_type": "code",
   "execution_count": 12,
   "metadata": {
    "colab": {
     "base_uri": "https://localhost:8080/",
     "height": 173
    },
    "colab_type": "code",
    "id": "pZygT8PleAN2",
    "outputId": "90b7bbe9-aa9c-4784-edc0-526c5c4910ab"
   },
   "outputs": [
    {
     "data": {
      "text/plain": [
       "array([list([1, 14, 22, 16, 43, 530, 973, 1622, 1385, 65, 458, 4468, 66, 3941, 4, 173, 36, 256, 5, 25, 100, 43, 838, 112, 50, 670, 2, 9, 35, 480, 284, 5, 150, 4, 172, 112, 167, 2, 336, 385, 39, 4, 172, 4536, 1111, 17, 546, 38, 13, 447, 4, 192, 50, 16, 6, 147, 2025, 19, 14, 22, 4, 1920, 4613, 469, 4, 22, 71, 87, 12, 16, 43, 530, 38, 76, 15, 13, 1247, 4, 22, 17, 515, 17, 12, 16, 626, 18, 2, 5, 62, 386, 12, 8, 316, 8, 106, 5, 4, 2223, 5244, 16, 480, 66, 3785, 33, 4, 130, 12, 16, 38, 619, 5, 25, 124, 51, 36, 135, 48, 25, 1415, 33, 6, 22, 12, 215, 28, 77, 52, 5, 14, 407, 16, 82, 2, 8, 4, 107, 117, 5952, 15, 256, 4, 2, 7, 3766, 5, 723, 36, 71, 43, 530, 476, 26, 400, 317, 46, 7, 4, 2, 1029, 13, 104, 88, 4, 381, 15, 297, 98, 32, 2071, 56, 26, 141, 6, 194, 7486, 18, 4, 226, 22, 21, 134, 476, 26, 480, 5, 144, 30, 5535, 18, 51, 36, 28, 224, 92, 25, 104, 4, 226, 65, 16, 38, 1334, 88, 12, 16, 283, 5, 16, 4472, 113, 103, 32, 15, 16, 5345, 19, 178, 32]),\n",
       "       list([1, 194, 1153, 194, 8255, 78, 228, 5, 6, 1463, 4369, 5012, 134, 26, 4, 715, 8, 118, 1634, 14, 394, 20, 13, 119, 954, 189, 102, 5, 207, 110, 3103, 21, 14, 69, 188, 8, 30, 23, 7, 4, 249, 126, 93, 4, 114, 9, 2300, 1523, 5, 647, 4, 116, 9, 35, 8163, 4, 229, 9, 340, 1322, 4, 118, 9, 4, 130, 4901, 19, 4, 1002, 5, 89, 29, 952, 46, 37, 4, 455, 9, 45, 43, 38, 1543, 1905, 398, 4, 1649, 26, 6853, 5, 163, 11, 3215, 2, 4, 1153, 9, 194, 775, 7, 8255, 2, 349, 2637, 148, 605, 2, 8003, 15, 123, 125, 68, 2, 6853, 15, 349, 165, 4362, 98, 5, 4, 228, 9, 43, 2, 1157, 15, 299, 120, 5, 120, 174, 11, 220, 175, 136, 50, 9, 4373, 228, 8255, 5, 2, 656, 245, 2350, 5, 4, 9837, 131, 152, 491, 18, 2, 32, 7464, 1212, 14, 9, 6, 371, 78, 22, 625, 64, 1382, 9, 8, 168, 145, 23, 4, 1690, 15, 16, 4, 1355, 5, 28, 6, 52, 154, 462, 33, 89, 78, 285, 16, 145, 95]),\n",
       "       list([1, 14, 47, 8, 30, 31, 7, 4, 249, 108, 7, 4, 5974, 54, 61, 369, 13, 71, 149, 14, 22, 112, 4, 2401, 311, 12, 16, 3711, 33, 75, 43, 1829, 296, 4, 86, 320, 35, 534, 19, 263, 4821, 1301, 4, 1873, 33, 89, 78, 12, 66, 16, 4, 360, 7, 4, 58, 316, 334, 11, 4, 1716, 43, 645, 662, 8, 257, 85, 1200, 42, 1228, 2578, 83, 68, 3912, 15, 36, 165, 1539, 278, 36, 69, 2, 780, 8, 106, 14, 6905, 1338, 18, 6, 22, 12, 215, 28, 610, 40, 6, 87, 326, 23, 2300, 21, 23, 22, 12, 272, 40, 57, 31, 11, 4, 22, 47, 6, 2307, 51, 9, 170, 23, 595, 116, 595, 1352, 13, 191, 79, 638, 89, 2, 14, 9, 8, 106, 607, 624, 35, 534, 6, 227, 7, 129, 113]),\n",
       "       ...,\n",
       "       list([1, 11, 6, 230, 245, 6401, 9, 6, 1225, 446, 2, 45, 2174, 84, 8322, 4007, 21, 4, 912, 84, 2, 325, 725, 134, 2, 1715, 84, 5, 36, 28, 57, 1099, 21, 8, 140, 8, 703, 5, 2, 84, 56, 18, 1644, 14, 9, 31, 7, 4, 9406, 1209, 2295, 2, 1008, 18, 6, 20, 207, 110, 563, 12, 8, 2901, 2, 8, 97, 6, 20, 53, 4767, 74, 4, 460, 364, 1273, 29, 270, 11, 960, 108, 45, 40, 29, 2961, 395, 11, 6, 4065, 500, 7, 2, 89, 364, 70, 29, 140, 4, 64, 4780, 11, 4, 2678, 26, 178, 4, 529, 443, 2, 5, 27, 710, 117, 2, 8123, 165, 47, 84, 37, 131, 818, 14, 595, 10, 10, 61, 1242, 1209, 10, 10, 288, 2260, 1702, 34, 2901, 2, 4, 65, 496, 4, 231, 7, 790, 5, 6, 320, 234, 2766, 234, 1119, 1574, 7, 496, 4, 139, 929, 2901, 2, 7750, 5, 4241, 18, 4, 8497, 2, 250, 11, 1818, 7561, 4, 4217, 5408, 747, 1115, 372, 1890, 1006, 541, 9303, 7, 4, 59, 2, 4, 3586, 2]),\n",
       "       list([1, 1446, 7079, 69, 72, 3305, 13, 610, 930, 8, 12, 582, 23, 5, 16, 484, 685, 54, 349, 11, 4120, 2959, 45, 58, 1466, 13, 197, 12, 16, 43, 23, 2, 5, 62, 30, 145, 402, 11, 4131, 51, 575, 32, 61, 369, 71, 66, 770, 12, 1054, 75, 100, 2198, 8, 4, 105, 37, 69, 147, 712, 75, 3543, 44, 257, 390, 5, 69, 263, 514, 105, 50, 286, 1814, 23, 4, 123, 13, 161, 40, 5, 421, 4, 116, 16, 897, 13, 2, 40, 319, 5872, 112, 6700, 11, 4803, 121, 25, 70, 3468, 4, 719, 3798, 13, 18, 31, 62, 40, 8, 7200, 4, 2, 7, 14, 123, 5, 942, 25, 8, 721, 12, 145, 5, 202, 12, 160, 580, 202, 12, 6, 52, 58, 2, 92, 401, 728, 12, 39, 14, 251, 8, 15, 251, 5, 2, 12, 38, 84, 80, 124, 12, 9, 23]),\n",
       "       list([1, 17, 6, 194, 337, 7, 4, 204, 22, 45, 254, 8, 106, 14, 123, 4, 2, 270, 2, 5, 2, 2, 732, 2098, 101, 405, 39, 14, 1034, 4, 1310, 9, 115, 50, 305, 12, 47, 4, 168, 5, 235, 7, 38, 111, 699, 102, 7, 4, 4039, 9245, 9, 24, 6, 78, 1099, 17, 2345, 2, 21, 27, 9685, 6139, 5, 2, 1603, 92, 1183, 4, 1310, 7, 4, 204, 42, 97, 90, 35, 221, 109, 29, 127, 27, 118, 8, 97, 12, 157, 21, 6789, 2, 9, 6, 66, 78, 1099, 4, 631, 1191, 5, 2642, 272, 191, 1070, 6, 7585, 8, 2197, 2, 2, 544, 5, 383, 1271, 848, 1468, 2, 497, 2, 8, 1597, 8778, 2, 21, 60, 27, 239, 9, 43, 8368, 209, 405, 10, 10, 12, 764, 40, 4, 248, 20, 12, 16, 5, 174, 1791, 72, 7, 51, 6, 1739, 22, 4, 204, 131, 9])],\n",
       "      dtype=object)"
      ]
     },
     "execution_count": 12,
     "metadata": {
      "tags": []
     },
     "output_type": "execute_result"
    }
   ],
   "source": [
    "train_data"
   ]
  },
  {
   "cell_type": "code",
   "execution_count": 13,
   "metadata": {
    "colab": {
     "base_uri": "https://localhost:8080/",
     "height": 34
    },
    "colab_type": "code",
    "id": "uqmv76GWeAUV",
    "outputId": "0dc1115c-c02b-40ff-ba7d-2b47a7542638"
   },
   "outputs": [
    {
     "data": {
      "text/plain": [
       "array([1, 0, 0, ..., 0, 1, 0])"
      ]
     },
     "execution_count": 13,
     "metadata": {
      "tags": []
     },
     "output_type": "execute_result"
    }
   ],
   "source": [
    "train_labels"
   ]
  },
  {
   "cell_type": "code",
   "execution_count": 14,
   "metadata": {
    "colab": {
     "base_uri": "https://localhost:8080/",
     "height": 34
    },
    "colab_type": "code",
    "id": "9POVeLFneAbM",
    "outputId": "b2235542-2f45-42e4-dd4b-fb9b3206f071"
   },
   "outputs": [
    {
     "data": {
      "text/plain": [
       "9999"
      ]
     },
     "execution_count": 14,
     "metadata": {
      "tags": []
     },
     "output_type": "execute_result"
    }
   ],
   "source": [
    "max(max(sequence) for sequence in train_data)"
   ]
  },
  {
   "cell_type": "code",
   "execution_count": 15,
   "metadata": {
    "colab": {
     "base_uri": "https://localhost:8080/",
     "height": 51
    },
    "colab_type": "code",
    "id": "7_KLraI-eAeh",
    "outputId": "771767ee-130f-4198-bbbd-017532c3c435"
   },
   "outputs": [
    {
     "name": "stdout",
     "output_type": "stream",
     "text": [
      "Downloading data from https://s3.amazonaws.com/text-datasets/imdb_word_index.json\n",
      "1646592/1641221 [==============================] - 0s 0us/step\n"
     ]
    }
   ],
   "source": [
    "word_index = imdb.get_word_index()\n",
    "reverse_word_index = dict (\n",
    "    (value, key) for (key, value) in word_index.items() )\n",
    "decoder_review = ' '.join(\n",
    "    [reverse_word_index.get(i-3,'?') for i in train_data[0]] )\n",
    "# т.к. индексвы 0, 1 и 2 зарезервированы для \"отступ\", \"начало\" и \"неизвестно\""
   ]
  },
  {
   "cell_type": "code",
   "execution_count": 0,
   "metadata": {
    "colab": {},
    "colab_type": "code",
    "id": "Gb2lGfYXeAY7"
   },
   "outputs": [],
   "source": [
    "# кодирование последовательностей целых чисел в бинарную матрицу\n",
    "\n",
    "import numpy as np\n",
    "\n",
    "def vectorize_sequences(sequences, dimension = 10000):\n",
    "  results = np.zeros(( len(sequences) , dimension ))\n",
    "  for i, sequences in enumerate(sequences):\n",
    "    results[i, sequences] = 1\n",
    "  return results"
   ]
  },
  {
   "cell_type": "code",
   "execution_count": 17,
   "metadata": {
    "colab": {
     "base_uri": "https://localhost:8080/",
     "height": 51
    },
    "colab_type": "code",
    "id": "eNYvrZmBeAXi",
    "outputId": "ac70c8d0-f759-4c3e-cce1-cde8757a6417"
   },
   "outputs": [
    {
     "name": "stdout",
     "output_type": "stream",
     "text": [
      "CPU times: user 1.48 s, sys: 2.65 s, total: 4.13 s\n",
      "Wall time: 4.13 s\n"
     ]
    }
   ],
   "source": [
    "%%time\n",
    "x_train = vectorize_sequences(train_data)\n",
    "x_test = vectorize_sequences(test_data)\n",
    "\n",
    "y_train = np.asarray(train_labels).astype('float32')\n",
    "y_test = np.asarray(test_labels).astype('float32')"
   ]
  },
  {
   "cell_type": "code",
   "execution_count": 18,
   "metadata": {
    "colab": {
     "base_uri": "https://localhost:8080/",
     "height": 1080
    },
    "colab_type": "code",
    "id": "RG0EkMlzeASa",
    "outputId": "c4f7e66b-a940-48a2-ad7c-1b6d21d316a8"
   },
   "outputs": [
    {
     "name": "stdout",
     "output_type": "stream",
     "text": [
      "Train on 15000 samples, validate on 10000 samples\n",
      "Epoch 1/20\n",
      "15000/15000 [==============================] - 3s 179us/step - loss: 0.5046 - acc: 0.7876 - val_loss: 0.3774 - val_acc: 0.8704\n",
      "Epoch 2/20\n",
      "15000/15000 [==============================] - 2s 143us/step - loss: 0.2991 - acc: 0.9046 - val_loss: 0.3001 - val_acc: 0.8896\n",
      "Epoch 3/20\n",
      "15000/15000 [==============================] - 2s 143us/step - loss: 0.2173 - acc: 0.9283 - val_loss: 0.3079 - val_acc: 0.8716\n",
      "Epoch 4/20\n",
      "15000/15000 [==============================] - 2s 145us/step - loss: 0.1747 - acc: 0.9440 - val_loss: 0.2824 - val_acc: 0.8846\n",
      "Epoch 5/20\n",
      "15000/15000 [==============================] - 2s 144us/step - loss: 0.1421 - acc: 0.9541 - val_loss: 0.2855 - val_acc: 0.8859\n",
      "Epoch 6/20\n",
      "15000/15000 [==============================] - 2s 143us/step - loss: 0.1148 - acc: 0.9651 - val_loss: 0.3126 - val_acc: 0.8785\n",
      "Epoch 7/20\n",
      "15000/15000 [==============================] - 2s 143us/step - loss: 0.0977 - acc: 0.9709 - val_loss: 0.3131 - val_acc: 0.8841\n",
      "Epoch 8/20\n",
      "15000/15000 [==============================] - 2s 142us/step - loss: 0.0806 - acc: 0.9763 - val_loss: 0.3862 - val_acc: 0.8652\n",
      "Epoch 9/20\n",
      "15000/15000 [==============================] - 2s 142us/step - loss: 0.0661 - acc: 0.9819 - val_loss: 0.3638 - val_acc: 0.8777\n",
      "Epoch 10/20\n",
      "15000/15000 [==============================] - 2s 141us/step - loss: 0.0566 - acc: 0.9849 - val_loss: 0.3846 - val_acc: 0.8794\n",
      "Epoch 11/20\n",
      "15000/15000 [==============================] - 2s 142us/step - loss: 0.0430 - acc: 0.9901 - val_loss: 0.4132 - val_acc: 0.8778\n",
      "Epoch 12/20\n",
      "15000/15000 [==============================] - 2s 143us/step - loss: 0.0378 - acc: 0.9921 - val_loss: 0.4589 - val_acc: 0.8681\n",
      "Epoch 13/20\n",
      "15000/15000 [==============================] - 2s 143us/step - loss: 0.0300 - acc: 0.9931 - val_loss: 0.4714 - val_acc: 0.8736\n",
      "Epoch 14/20\n",
      "15000/15000 [==============================] - 2s 143us/step - loss: 0.0250 - acc: 0.9943 - val_loss: 0.5050 - val_acc: 0.8730\n",
      "Epoch 15/20\n",
      "15000/15000 [==============================] - 2s 141us/step - loss: 0.0203 - acc: 0.9964 - val_loss: 0.5318 - val_acc: 0.8707\n",
      "Epoch 16/20\n",
      "15000/15000 [==============================] - 2s 141us/step - loss: 0.0143 - acc: 0.9981 - val_loss: 0.5695 - val_acc: 0.8695\n",
      "Epoch 17/20\n",
      "15000/15000 [==============================] - 2s 142us/step - loss: 0.0148 - acc: 0.9972 - val_loss: 0.6012 - val_acc: 0.8671\n",
      "Epoch 18/20\n",
      "15000/15000 [==============================] - 2s 142us/step - loss: 0.0105 - acc: 0.9981 - val_loss: 0.6307 - val_acc: 0.8670\n",
      "Epoch 19/20\n",
      "15000/15000 [==============================] - 2s 141us/step - loss: 0.0058 - acc: 0.9999 - val_loss: 0.7002 - val_acc: 0.8595\n",
      "Epoch 20/20\n",
      "15000/15000 [==============================] - 2s 141us/step - loss: 0.0082 - acc: 0.9987 - val_loss: 0.6905 - val_acc: 0.8647\n"
     ]
    },
    {
     "data": {
      "image/png": "[encoded data removed]",
      "text/plain": [
       "<matplotlib.figure.Figure at 0x7f9da9854400>"
      ]
     },
     "metadata": {
      "tags": []
     },
     "output_type": "display_data"
    },
    {
     "name": "stdout",
     "output_type": "stream",
     "text": [
      "CPU times: user 57.4 s, sys: 1.97 s, total: 59.4 s\n",
      "Wall time: 44.1 s\n"
     ]
    }
   ],
   "source": [
    "%%time\n",
    "\n",
    "from keras import models\n",
    "from keras import layers\n",
    "\n",
    "model = models.Sequential()\n",
    "model.add(layers.Dense( 16, activation='relu', input_shape=(10000,) ) )\n",
    "model.add(layers.Dense( 16, activation='relu' ) )\n",
    "model.add(layers.Dense( 1, activation='sigmoid' ) )\n",
    "\n",
    "# вариант 1\n",
    "model.compile(optimizer='rmsprop',\n",
    "             loss='binary_crossentropy',\n",
    "             metrics=['accuracy'])\n",
    "\n",
    "# # вариант 2: настроить параметры вручную\n",
    "# from keras import optimizers\n",
    "# from keras import losses\n",
    "# from keras import metrics\n",
    "\n",
    "# model.compile(optimizer=optimizers.RMSprop(lr=0.001),\n",
    "#              loss=losses.binary_crossentropy,\n",
    "#              metrics=[metrics.binary_accuracy])\n",
    "\n",
    "# разбиваем на обучающую 10000 образцов и проверочную выборку\n",
    "x_val = x_train[:10000]\n",
    "partial_x_train = x_train[10000:]\n",
    "\n",
    "y_val = y_train[:10000]\n",
    "partial_y_train = y_train[10000:]\n",
    "\n",
    "# обучение модели\n",
    "history= model.fit(partial_x_train,\n",
    "                   partial_y_train,\n",
    "                   epochs=20,\n",
    "                   batch_size=512,\n",
    "                   validation_data= (x_val, y_val) )\n",
    "\n",
    "history_dict = history.history\n",
    "history_dict.keys()\n",
    "# ['val_loss', 'val_acc', 'loss', 'acc']\n",
    "\n",
    "\n",
    "import matplotlib.pyplot as plt\n",
    "\n",
    "# графики\n",
    "plt.figure(figsize=(15, 5))\n",
    "\n",
    "plt.subplot(121)\n",
    "# график точности\n",
    "loss_values = history_dict['loss']\n",
    "val_loss_values = history_dict['val_loss']\n",
    "acc_values = history_dict['acc']\n",
    "\n",
    "epochs = range(1, (len(acc_values))+1 )\n",
    "\n",
    "plt.plot(epochs, loss_values, 'bo', label = 'training loss')\n",
    "plt.plot(epochs, val_loss_values, 'b', label = 'validation loss')\n",
    "plt.title( 'training and validation loss' )\n",
    "plt.xlabel('epochs')\n",
    "plt.ylabel('loss')\n",
    "plt.legend()\n",
    "\n",
    "plt.subplot(122)\n",
    "# график потерь\n",
    "acc_values = history_dict['acc']\n",
    "val_acc_values = history_dict['val_acc']\n",
    "\n",
    "epochs = range(1, (len(acc_values))+1 )\n",
    "\n",
    "plt.plot(epochs, acc_values, 'bo', label = 'training acc')\n",
    "plt.plot(epochs, val_acc_values, 'b', label = 'validation acc')\n",
    "plt.title( 'training and validation acc' )\n",
    "plt.xlabel('epochs')\n",
    "plt.ylabel('accuracy')\n",
    "plt.legend()\n",
    "\n",
    "plt.show()"
   ]
  },
  {
   "cell_type": "code",
   "execution_count": 19,
   "metadata": {
    "colab": {
     "base_uri": "https://localhost:8080/",
     "height": 255
    },
    "colab_type": "code",
    "id": "BQ1es9AkqTYL",
    "outputId": "750a4c6d-9de7-40a4-8dc7-49499160b5d6"
   },
   "outputs": [
    {
     "name": "stdout",
     "output_type": "stream",
     "text": [
      "Epoch 1/4\n",
      "25000/25000 [==============================] - 3s 105us/step - loss: 0.4739 - acc: 0.8221\n",
      "Epoch 2/4\n",
      "25000/25000 [==============================] - 3s 103us/step - loss: 0.2675 - acc: 0.9090\n",
      "Epoch 3/4\n",
      "25000/25000 [==============================] - 3s 102us/step - loss: 0.2029 - acc: 0.9287\n",
      "Epoch 4/4\n",
      "25000/25000 [==============================] - 3s 102us/step - loss: 0.1710 - acc: 0.9388\n",
      "25000/25000 [==============================] - 2s 93us/step\n",
      "\n",
      " [0.31275658314704896, 0.87568] \n",
      "\n",
      "CPU times: user 17.2 s, sys: 622 ms, total: 17.8 s\n",
      "Wall time: 13.3 s\n"
     ]
    }
   ],
   "source": [
    "%%time\n",
    "\n",
    "# из графика видим переобучение на 20 эпохах, оставим только 4 эпохи\n",
    "\n",
    "model = models.Sequential()\n",
    "model.add(layers.Dense( 16, activation='relu', input_shape=(10000,) ) )\n",
    "model.add(layers.Dense( 16, activation='relu' ) )\n",
    "model.add(layers.Dense( 1, activation='sigmoid' ) )\n",
    "\n",
    "model.compile(optimizer='rmsprop',\n",
    "             loss='binary_crossentropy',\n",
    "             metrics=['accuracy'])\n",
    "\n",
    "model.fit(x_train,\n",
    "           y_train,\n",
    "           epochs=4,\n",
    "           batch_size=512)\n",
    "\n",
    "results = model.evaluate(x_test, y_test)\n",
    "\n",
    "print('\\n', results, '\\n')"
   ]
  },
  {
   "cell_type": "code",
   "execution_count": 20,
   "metadata": {
    "colab": {
     "base_uri": "https://localhost:8080/",
     "height": 136
    },
    "colab_type": "code",
    "id": "FGspK_N6w2KQ",
    "outputId": "08561ddf-b8cc-4893-c46c-44f5c26977bc"
   },
   "outputs": [
    {
     "data": {
      "text/plain": [
       "array([[0.15958671],\n",
       "       [0.9998449 ],\n",
       "       [0.3795305 ],\n",
       "       ...,\n",
       "       [0.07986593],\n",
       "       [0.04867497],\n",
       "       [0.44790718]], dtype=float32)"
      ]
     },
     "execution_count": 20,
     "metadata": {
      "tags": []
     },
     "output_type": "execute_result"
    }
   ],
   "source": [
    "# построим предикт на новых данных\n",
    "\n",
    "model.predict(x_test)"
   ]
  },
  {
   "cell_type": "code",
   "execution_count": 29,
   "metadata": {
    "colab": {
     "base_uri": "https://localhost:8080/",
     "height": 1219
    },
    "colab_type": "code",
    "id": "N8BEGe9rw2OH",
    "outputId": "a06c3c93-82f0-4bd4-e090-1ffbbf78f049"
   },
   "outputs": [
    {
     "name": "stdout",
     "output_type": "stream",
     "text": [
      "Train on 25000 samples, validate on 10000 samples\n",
      "Epoch 1/20\n",
      "25000/25000 [==============================] - 5s 195us/step - loss: 0.4243 - acc: 0.8145 - val_loss: 0.2908 - val_acc: 0.8870\n",
      "Epoch 2/20\n",
      "25000/25000 [==============================] - 4s 172us/step - loss: 0.2377 - acc: 0.9089 - val_loss: 0.1549 - val_acc: 0.9522\n",
      "Epoch 3/20\n",
      "25000/25000 [==============================] - 4s 171us/step - loss: 0.1845 - acc: 0.9304 - val_loss: 0.1173 - val_acc: 0.9635\n",
      "Epoch 4/20\n",
      "25000/25000 [==============================] - 4s 171us/step - loss: 0.1518 - acc: 0.9433 - val_loss: 0.0931 - val_acc: 0.9738\n",
      "Epoch 5/20\n",
      "25000/25000 [==============================] - 4s 176us/step - loss: 0.1226 - acc: 0.9552 - val_loss: 0.0717 - val_acc: 0.9805\n",
      "Epoch 6/20\n",
      "25000/25000 [==============================] - 4s 176us/step - loss: 0.0942 - acc: 0.9666 - val_loss: 0.0498 - val_acc: 0.9885\n",
      "Epoch 7/20\n",
      "25000/25000 [==============================] - 4s 170us/step - loss: 0.0715 - acc: 0.9754 - val_loss: 0.0346 - val_acc: 0.9923\n",
      "Epoch 8/20\n",
      "25000/25000 [==============================] - 4s 172us/step - loss: 0.0491 - acc: 0.9846 - val_loss: 0.0242 - val_acc: 0.9950\n",
      "Epoch 9/20\n",
      "25000/25000 [==============================] - 4s 171us/step - loss: 0.0373 - acc: 0.9875 - val_loss: 0.0139 - val_acc: 0.9973\n",
      "Epoch 10/20\n",
      "25000/25000 [==============================] - 4s 171us/step - loss: 0.0281 - acc: 0.9922 - val_loss: 0.0076 - val_acc: 0.9989\n",
      "Epoch 11/20\n",
      "25000/25000 [==============================] - 4s 170us/step - loss: 0.0270 - acc: 0.9922 - val_loss: 0.0051 - val_acc: 0.9996\n",
      "Epoch 12/20\n",
      "25000/25000 [==============================] - 4s 171us/step - loss: 0.0193 - acc: 0.9948 - val_loss: 0.0033 - val_acc: 0.9997\n",
      "Epoch 13/20\n",
      "25000/25000 [==============================] - 4s 170us/step - loss: 0.0030 - acc: 0.9997 - val_loss: 0.0510 - val_acc: 0.9826\n",
      "Epoch 14/20\n",
      "25000/25000 [==============================] - 4s 170us/step - loss: 0.0130 - acc: 0.9964 - val_loss: 0.0011 - val_acc: 0.9998\n",
      "Epoch 15/20\n",
      "25000/25000 [==============================] - 4s 172us/step - loss: 0.0188 - acc: 0.9958 - val_loss: 8.3059e-04 - val_acc: 0.9999\n",
      "Epoch 16/20\n",
      "25000/25000 [==============================] - 4s 170us/step - loss: 6.7179e-04 - acc: 1.0000 - val_loss: 4.4188e-04 - val_acc: 0.9999\n",
      "Epoch 17/20\n",
      "25000/25000 [==============================] - 4s 171us/step - loss: 0.0251 - acc: 0.9948 - val_loss: 2.8672e-04 - val_acc: 1.0000\n",
      "Epoch 18/20\n",
      "25000/25000 [==============================] - 4s 170us/step - loss: 2.5045e-04 - acc: 1.0000 - val_loss: 1.7098e-04 - val_acc: 1.0000\n",
      "Epoch 19/20\n",
      "25000/25000 [==============================] - 4s 170us/step - loss: 1.6105e-04 - acc: 1.0000 - val_loss: 7.2893e-05 - val_acc: 1.0000\n",
      "Epoch 20/20\n",
      "25000/25000 [==============================] - 4s 172us/step - loss: 0.0362 - acc: 0.9957 - val_loss: 5.9101e-05 - val_acc: 1.0000\n",
      "\n",
      "\n",
      "\n"
     ]
    },
    {
     "data": {
      "image/png": "[encoded data removed]",
      "text/plain": [
       "<matplotlib.figure.Figure at 0x7f9dabca41d0>"
      ]
     },
     "metadata": {
      "tags": []
     },
     "output_type": "display_data"
    },
    {
     "name": "stdout",
     "output_type": "stream",
     "text": [
      "25000/25000 [==============================] - 3s 125us/step\n",
      "\n",
      " [1.081839636527896, 0.85696] \n",
      "\n",
      "CPU times: user 2min 10s, sys: 4.13 s, total: 2min 14s\n",
      "Wall time: 1min 30s\n"
     ]
    }
   ],
   "source": [
    "%%time\n",
    "\n",
    "from keras import models\n",
    "from keras import layers\n",
    "\n",
    "# попробуем поиграться с параметрами\n",
    "model = models.Sequential()\n",
    "model.add(layers.Dense( 64, activation='relu', input_shape=(10000,) ) )\n",
    "model.add(layers.Dense( 64, activation='relu' ) )\n",
    "model.add(layers.Dense( 1, activation='sigmoid' ) )\n",
    "\n",
    "model.compile(optimizer='rmsprop',\n",
    "             loss='binary_crossentropy',\n",
    "             metrics=['accuracy'])\n",
    "\n",
    "history = model.fit(x_train,\n",
    "           y_train,\n",
    "           epochs=20,\n",
    "           batch_size=512,\n",
    "           validation_data= (x_val, y_val) )\n",
    "\n",
    "history_dict = history.history\n",
    "history_dict.keys()\n",
    "\n",
    "print('\\n\\n')\n",
    "\n",
    "# графики\n",
    "plt.figure(figsize=(15, 5))\n",
    "\n",
    "plt.subplot(121)\n",
    "# график точности\n",
    "loss_values = history_dict['loss']\n",
    "val_loss_values = history_dict['val_loss']\n",
    "acc_values = history_dict['acc']\n",
    "\n",
    "epochs = range(1, (len(acc_values))+1 )\n",
    "\n",
    "plt.plot(epochs, loss_values, 'bo', label = 'training loss')\n",
    "plt.plot(epochs, val_loss_values, 'b', label = 'validation loss')\n",
    "plt.title( 'training and validation loss' )\n",
    "plt.xlabel('epochs')\n",
    "plt.ylabel('loss')\n",
    "plt.legend()\n",
    "\n",
    "plt.subplot(122)\n",
    "# график потерь\n",
    "acc_values = history_dict['acc']\n",
    "val_acc_values = history_dict['val_acc']\n",
    "\n",
    "epochs = range(1, (len(acc_values))+1 )\n",
    "\n",
    "plt.plot(epochs, acc_values, 'bo', label = 'training acc')\n",
    "plt.plot(epochs, val_acc_values, 'b', label = 'validation acc')\n",
    "plt.title( 'training and validation acc' )\n",
    "plt.xlabel('epochs')\n",
    "plt.ylabel('accuracy')\n",
    "plt.legend()\n",
    "\n",
    "plt.show()\n",
    "\n",
    "\n",
    "# точность на неизвестных данных\n",
    "results = model.evaluate(x_test, y_test)\n",
    "\n",
    "print('\\n', results, '\\n')"
   ]
  },
  {
   "cell_type": "code",
   "execution_count": 23,
   "metadata": {
    "colab": {
     "base_uri": "https://localhost:8080/",
     "height": 34
    },
    "colab_type": "code",
    "id": "Ts1b315A38kI",
    "outputId": "a8e8f9de-2b48-4fe3-c11d-78c4e8bd9dc5"
   },
   "outputs": [
    {
     "data": {
      "text/plain": [
       "dict_keys(['loss', 'acc'])"
      ]
     },
     "execution_count": 23,
     "metadata": {
      "tags": []
     },
     "output_type": "execute_result"
    }
   ],
   "source": [
    "history_dict.keys()"
   ]
  },
  {
   "cell_type": "code",
   "execution_count": 0,
   "metadata": {
    "colab": {},
    "colab_type": "code",
    "id": "XLzo-Gk6w2ST"
   },
   "outputs": [],
   "source": [
    "# import os\n",
    "# import tensorflow as tf\n",
    "# from tensorflow.keras.models import Model\n",
    "\n",
    "# # Мы будем создавать одинаковую модель два раза:\n",
    "# #   первый вариант модели для TPU, на котором будем обучать,\n",
    "# #   а второй для CPU, где будем распознавать объекты.\n",
    "\n",
    "# def create_model():\n",
    "  \n",
    "#   model = Model.Sequential()\n",
    "#   model.add(layers.Dense( 32, activation='relu', input_shape=(10000,) ) )\n",
    "#   model.add(layers.Dense( 16, activation='relu' ) )\n",
    "#   model.add(layers.Dense( 1, activation='sigmoid' ) )\n",
    "\n",
    "# #   model.compile(optimizer='rmsprop',\n",
    "# #                loss='binary_crossentropy',\n",
    "# #                metrics=['accuracy'])\n",
    "\n",
    "#   model.compile(\n",
    "#       optimizer=tf.train.AdamOptimizer(0.001),\n",
    "#       loss=tf.keras.losses.categorical_crossentropy,\n",
    "#       metrics=['sparse_categorical_accuracy'])\n",
    "    \n",
    "#   return model\n",
    "\n",
    "# cpu_model = create_model()\n",
    "\n",
    "# # # Конвертируем нейросеть на Keras в модель для TPU\n",
    "\n",
    "# # # Для начала нужно узнать, где находится доступный нам TPU.\n",
    "# # # На платформе Colaboratory это можно сделать следующей командой:\n",
    "# # TPU_WORKER = 'grpc://' + os.environ['COLAB_TPU_ADDR']\n",
    "\n",
    "# # # Теперь можно получить модель для TPU с помощью функции keras_to_tpu_model:\n",
    "# # tf.logging.set_verbosity(tf.logging.INFO)\n",
    "# # tpu_model = tf.contrib.tpu.keras_to_tpu_model(\n",
    "# #     cpu_model,\n",
    "# #     strategy=tf.contrib.tpu.TPUDistributionStrategy(\n",
    "# #         tf.contrib.cluster_resolver.TPUClusterResolver(TPU_WORKER)))"
   ]
  },
  {
   "cell_type": "markdown",
   "metadata": {
    "colab_type": "text",
    "id": "VaaEx61_6eB4"
   },
   "source": [
    "**3.5.1. Набор данных в Reuters**"
   ]
  },
  {
   "cell_type": "code",
   "execution_count": 0,
   "metadata": {
    "colab": {},
    "colab_type": "code",
    "id": "lmBzWXlmw2Yc"
   },
   "outputs": [],
   "source": [
    "from keras.datasets import reuters\n",
    "\n",
    "(train_data, train_labels), (test_data, test_labels) = reuters.load_data(num_words=10000)\n",
    "\n",
    "print( train_data.shape )\n",
    "print( test_data.shape )\n",
    "\n",
    "print(train_data[1])"
   ]
  },
  {
   "cell_type": "code",
   "execution_count": 0,
   "metadata": {
    "colab": {},
    "colab_type": "code",
    "id": "aD5FA1sd6aJg"
   },
   "outputs": [],
   "source": [
    "word_index = reuters.get_word_index()\n",
    "\n",
    "def index2words(i):\n",
    "  reverse_word_index = dict (\n",
    "    (value, key) for (key, value) in word_index.items() )\n",
    "  decoder_review = ' '.join(\n",
    "    [reverse_word_index.get(i-3,'?') for i in train_data[i]] )\n",
    "  \n",
    "  return decoder_review\n",
    "  # т.к. индексвы 0, 1 и 2 зарезервированы для \"отступ\", \"начало\" и \"неизвестно\""
   ]
  },
  {
   "cell_type": "code",
   "execution_count": 44,
   "metadata": {
    "colab": {
     "base_uri": "https://localhost:8080/",
     "height": 54
    },
    "colab_type": "code",
    "id": "EvEvmCrU6aC7",
    "outputId": "2448ac31-9cd0-4936-be62-a6391029a7fe"
   },
   "outputs": [
    {
     "data": {
      "text/plain": [
       "'? shr 3 28 dlrs vs 22 cts shr diluted 2 99 dlrs vs 22 cts net 46 0 mln vs 3 328 000 avg shrs 14 0 mln vs 15 2 mln year shr 5 41 dlrs vs 1 56 dlrs shr diluted 4 94 dlrs vs 1 50 dlrs net 78 2 mln vs 25 9 mln avg shrs 14 5 mln vs 15 1 mln note earnings per share reflect the two for one split effective january 6 1987 per share amounts are calculated after preferred stock dividends loss continuing operations for the qtr 1986 includes gains of sale of investments in ? corp of 14 mln dlrs and associated companies of 4 189 000 less writedowns of investments in national ? inc of 11 8 mln and ? corp of 15 6 mln reuter 3'"
      ]
     },
     "execution_count": 44,
     "metadata": {
      "tags": []
     },
     "output_type": "execute_result"
    }
   ],
   "source": [
    "index2words(2)"
   ]
  },
  {
   "cell_type": "code",
   "execution_count": 0,
   "metadata": {
    "colab": {},
    "colab_type": "code",
    "id": "y0FDQtVXw2c2"
   },
   "outputs": [],
   "source": [
    "# кодирование последовательностей целых чисел в бинарную матрицу\n",
    "\n",
    "import numpy as np\n",
    "\n",
    "def vectorize_sequences(sequences, dimension = 10000):\n",
    "  results = np.zeros(( len(sequences) , dimension ))\n",
    "  for i, sequence in enumerate(sequences):\n",
    "    results[i, sequence] = 1\n",
    "  return results\n",
    "\n",
    "x_train = vectorize_sequences( train_data )\n",
    "x_test = vectorize_sequences( test_data )"
   ]
  },
  {
   "cell_type": "code",
   "execution_count": 54,
   "metadata": {
    "colab": {
     "base_uri": "https://localhost:8080/",
     "height": 136
    },
    "colab_type": "code",
    "id": "tjk5LLNEw2h6",
    "outputId": "1f37a532-bff4-4816-8815-b8db074e84ed"
   },
   "outputs": [
    {
     "data": {
      "text/plain": [
       "array([[0., 1., 1., ..., 0., 0., 0.],\n",
       "       [0., 1., 1., ..., 0., 0., 0.],\n",
       "       [0., 1., 1., ..., 0., 0., 0.],\n",
       "       ...,\n",
       "       [0., 1., 1., ..., 0., 0., 0.],\n",
       "       [0., 1., 1., ..., 0., 0., 0.],\n",
       "       [0., 1., 1., ..., 0., 0., 0.]])"
      ]
     },
     "execution_count": 54,
     "metadata": {
      "tags": []
     },
     "output_type": "execute_result"
    }
   ],
   "source": [
    "x_train"
   ]
  },
  {
   "cell_type": "code",
   "execution_count": 61,
   "metadata": {
    "colab": {
     "base_uri": "https://localhost:8080/",
     "height": 68
    },
    "colab_type": "code",
    "id": "ieF0tCFCw2m1",
    "outputId": "e2c493df-d7ea-42d8-97ef-90ba8a57ff4a"
   },
   "outputs": [
    {
     "name": "stdout",
     "output_type": "stream",
     "text": [
      "20\n",
      "[0. 0. 0. 0. 0. 0. 0. 0. 0. 0. 0. 0. 0. 0. 0. 0. 0. 0. 0. 0. 1. 0. 0. 0.\n",
      " 0. 0. 0. 0. 0. 0. 0. 0. 0. 0. 0. 0. 0. 0. 0. 0. 0. 0. 0. 0. 0. 0.]\n"
     ]
    }
   ],
   "source": [
    "# прямое кодирование категорий\n",
    "\n",
    "def to_one_hot (labels, dimension=46):\n",
    "  results = np.zeros(( len(labels) , dimension ))\n",
    "  for i, label in enumerate(labels):\n",
    "    results[i, label] = 1\n",
    "  return results\n",
    "\n",
    "one_hot_train_labels = to_one_hot(train_labels)\n",
    "one_hot_test_labels = to_one_hot(test_labels)\n",
    "\n",
    "print(train_labels[100])\n",
    "print(one_hot_train_labels[100])"
   ]
  },
  {
   "cell_type": "code",
   "execution_count": 62,
   "metadata": {
    "colab": {
     "base_uri": "https://localhost:8080/",
     "height": 68
    },
    "colab_type": "code",
    "id": "ZEUKOPP0-Ubm",
    "outputId": "c88e9437-b4ea-4dc3-fa6e-5b3311dee3f8"
   },
   "outputs": [
    {
     "name": "stdout",
     "output_type": "stream",
     "text": [
      "20\n",
      "[0. 0. 0. 0. 0. 0. 0. 0. 0. 0. 0. 0. 0. 0. 0. 0. 0. 0. 0. 0. 1. 0. 0. 0.\n",
      " 0. 0. 0. 0. 0. 0. 0. 0. 0. 0. 0. 0. 0. 0. 0. 0. 0. 0. 0. 0. 0. 0.]\n"
     ]
    }
   ],
   "source": [
    "# этот способ уже реализован в Keras\n",
    "\n",
    "from keras.utils.np_utils import to_categorical\n",
    "\n",
    "one_hot_train_labels = to_categorical(train_labels)\n",
    "one_hot_test_labels = to_categorical(test_labels)\n",
    "\n",
    "print(train_labels[100])\n",
    "print(one_hot_train_labels[100])"
   ]
  },
  {
   "cell_type": "code",
   "execution_count": 70,
   "metadata": {
    "colab": {
     "base_uri": "https://localhost:8080/",
     "height": 748
    },
    "colab_type": "code",
    "id": "mcjezuKx-UnQ",
    "outputId": "bdd4cf56-e531-47f5-e4b5-0159458ce206"
   },
   "outputs": [
    {
     "name": "stdout",
     "output_type": "stream",
     "text": [
      "Train on 7982 samples, validate on 1000 samples\n",
      "Epoch 1/20\n",
      "7982/7982 [==============================] - 2s 268us/step - loss: 2.5078 - acc: 0.4935 - val_loss: 1.6753 - val_acc: 0.6470\n",
      "Epoch 2/20\n",
      "7982/7982 [==============================] - 1s 176us/step - loss: 1.3943 - acc: 0.7038 - val_loss: 1.3157 - val_acc: 0.7000\n",
      "Epoch 3/20\n",
      "7982/7982 [==============================] - 1s 174us/step - loss: 1.0593 - acc: 0.7749 - val_loss: 1.1358 - val_acc: 0.7580\n",
      "Epoch 4/20\n",
      "7982/7982 [==============================] - 1s 175us/step - loss: 0.8387 - acc: 0.8256 - val_loss: 1.0254 - val_acc: 0.7880\n",
      "Epoch 5/20\n",
      "7982/7982 [==============================] - 1s 176us/step - loss: 0.6647 - acc: 0.8617 - val_loss: 0.9663 - val_acc: 0.7920\n",
      "Epoch 6/20\n",
      "7982/7982 [==============================] - 1s 172us/step - loss: 0.5350 - acc: 0.8885 - val_loss: 0.9001 - val_acc: 0.8180\n",
      "Epoch 7/20\n",
      "7982/7982 [==============================] - 1s 172us/step - loss: 0.4230 - acc: 0.9103 - val_loss: 0.9264 - val_acc: 0.7940\n",
      "Epoch 8/20\n",
      "7982/7982 [==============================] - 1s 172us/step - loss: 0.3418 - acc: 0.9252 - val_loss: 0.8780 - val_acc: 0.8140\n",
      "Epoch 9/20\n",
      "7982/7982 [==============================] - 1s 181us/step - loss: 0.2872 - acc: 0.9355 - val_loss: 0.8824 - val_acc: 0.8120\n",
      "Epoch 10/20\n",
      "7982/7982 [==============================] - 1s 186us/step - loss: 0.2377 - acc: 0.9448 - val_loss: 0.9019 - val_acc: 0.8100\n",
      "Epoch 11/20\n",
      "7982/7982 [==============================] - 1s 186us/step - loss: 0.2062 - acc: 0.9481 - val_loss: 0.9160 - val_acc: 0.8170\n",
      "Epoch 12/20\n",
      "7982/7982 [==============================] - 2s 188us/step - loss: 0.1853 - acc: 0.9514 - val_loss: 0.9090 - val_acc: 0.8140\n",
      "Epoch 13/20\n",
      "7982/7982 [==============================] - 1s 184us/step - loss: 0.1590 - acc: 0.9529 - val_loss: 0.9592 - val_acc: 0.8130\n",
      "Epoch 14/20\n",
      "7982/7982 [==============================] - 1s 182us/step - loss: 0.1483 - acc: 0.9546 - val_loss: 0.9665 - val_acc: 0.8000\n",
      "Epoch 15/20\n",
      "7982/7982 [==============================] - 2s 190us/step - loss: 0.1409 - acc: 0.9559 - val_loss: 0.9496 - val_acc: 0.8180\n",
      "Epoch 16/20\n",
      "7982/7982 [==============================] - 1s 178us/step - loss: 0.1309 - acc: 0.9567 - val_loss: 1.0137 - val_acc: 0.8000\n",
      "Epoch 17/20\n",
      "7982/7982 [==============================] - 1s 173us/step - loss: 0.1237 - acc: 0.9570 - val_loss: 1.0669 - val_acc: 0.7890\n",
      "Epoch 18/20\n",
      "7982/7982 [==============================] - 1s 174us/step - loss: 0.1208 - acc: 0.9575 - val_loss: 1.0523 - val_acc: 0.7950\n",
      "Epoch 19/20\n",
      "7982/7982 [==============================] - 1s 175us/step - loss: 0.1165 - acc: 0.9579 - val_loss: 1.0513 - val_acc: 0.7960\n",
      "Epoch 20/20\n",
      "7982/7982 [==============================] - 1s 172us/step - loss: 0.1064 - acc: 0.9592 - val_loss: 1.0329 - val_acc: 0.8100\n",
      "CPU times: user 42.8 s, sys: 1.25 s, total: 44 s\n",
      "Wall time: 29.5 s\n"
     ]
    }
   ],
   "source": [
    "%%time\n",
    "\n",
    "from keras import models\n",
    "from keras import layers\n",
    "\n",
    "model = models.Sequential()\n",
    "model.add(layers.Dense( 64, activation='relu', input_shape=(10000,) ) )\n",
    "model.add(layers.Dense( 64, activation='relu' ) )\n",
    "model.add(layers.Dense( 46, activation='softmax' ) )\n",
    "\n",
    "# вариант 1\n",
    "model.compile(optimizer='rmsprop',\n",
    "             loss='categorical_crossentropy',\n",
    "             metrics=['accuracy'])\n",
    "\n",
    "# разбиваем на обучающую 1000 образцов и проверочную выборку\n",
    "x_val = x_train[:1000]\n",
    "partial_x_train = x_train[1000:]\n",
    "\n",
    "y_val = one_hot_train_labels[:1000]\n",
    "partial_y_train = one_hot_train_labels[1000:]\n",
    "\n",
    "# обучение модели\n",
    "history= model.fit(partial_x_train,\n",
    "                   partial_y_train,\n",
    "                   epochs=20,\n",
    "                   batch_size=512,\n",
    "                   validation_data= (x_val, y_val) )\n",
    "\n",
    "history_dict = history.history\n",
    "history_dict.keys()"
   ]
  },
  {
   "cell_type": "code",
   "execution_count": 71,
   "metadata": {
    "colab": {
     "base_uri": "https://localhost:8080/",
     "height": 417
    },
    "colab_type": "code",
    "id": "RFdYZjGv-Uvz",
    "outputId": "090acbe2-c8e0-4ce2-8e76-cf843ffe1bc8"
   },
   "outputs": [
    {
     "data": {
      "image/png": "[encoded data removed]",
      "text/plain": [
       "<matplotlib.figure.Figure at 0x7f9daac7f7b8>"
      ]
     },
     "metadata": {
      "tags": []
     },
     "output_type": "display_data"
    },
    {
     "name": "stdout",
     "output_type": "stream",
     "text": [
      "2246/2246 [==============================] - 0s 135us/step\n",
      "\n",
      " [1.2059174186930737, 0.7787177203918076] \n",
      "\n"
     ]
    }
   ],
   "source": [
    "# графики\n",
    "plt.figure(figsize=(15, 5))\n",
    "\n",
    "plt.subplot(121)\n",
    "# график точности\n",
    "loss_values = history_dict['loss']\n",
    "val_loss_values = history_dict['val_loss']\n",
    "acc_values = history_dict['acc']\n",
    "\n",
    "epochs = range(1, (len(acc_values))+1 )\n",
    "\n",
    "plt.plot(epochs, loss_values, 'bo', label = 'training loss')\n",
    "plt.plot(epochs, val_loss_values, 'b', label = 'validation loss')\n",
    "plt.title( 'training and validation loss' )\n",
    "plt.xlabel('epochs')\n",
    "plt.ylabel('loss')\n",
    "plt.legend()\n",
    "\n",
    "plt.subplot(122)\n",
    "# график потерь\n",
    "acc_values = history_dict['acc']\n",
    "val_acc_values = history_dict['val_acc']\n",
    "\n",
    "epochs = range(1, (len(acc_values))+1 )\n",
    "\n",
    "plt.plot(epochs, acc_values, 'bo', label = 'training acc')\n",
    "plt.plot(epochs, val_acc_values, 'b', label = 'validation acc')\n",
    "plt.title( 'training and validation acc' )\n",
    "plt.xlabel('epochs')\n",
    "plt.ylabel('accuracy')\n",
    "plt.legend()\n",
    "\n",
    "plt.show()"
   ]
  },
  {
   "cell_type": "code",
   "execution_count": 72,
   "metadata": {
    "colab": {
     "base_uri": "https://localhost:8080/",
     "height": 408
    },
    "colab_type": "code",
    "id": "G0y8JXtm-Utu",
    "outputId": "6f7286cf-0895-4c5b-a62c-6969d25a5495"
   },
   "outputs": [
    {
     "name": "stdout",
     "output_type": "stream",
     "text": [
      "Train on 7982 samples, validate on 1000 samples\n",
      "Epoch 1/9\n",
      "7982/7982 [==============================] - 2s 265us/step - loss: 2.5387 - acc: 0.5227 - val_loss: 1.6741 - val_acc: 0.6550\n",
      "Epoch 2/9\n",
      "7982/7982 [==============================] - 1s 166us/step - loss: 1.3718 - acc: 0.7120 - val_loss: 1.2754 - val_acc: 0.7210\n",
      "Epoch 3/9\n",
      "7982/7982 [==============================] - 1s 173us/step - loss: 1.0149 - acc: 0.7796 - val_loss: 1.1307 - val_acc: 0.7530\n",
      "Epoch 4/9\n",
      "7982/7982 [==============================] - 1s 173us/step - loss: 0.7990 - acc: 0.8239 - val_loss: 1.0534 - val_acc: 0.7610\n",
      "Epoch 5/9\n",
      "7982/7982 [==============================] - 1s 176us/step - loss: 0.6404 - acc: 0.8627 - val_loss: 0.9756 - val_acc: 0.7940\n",
      "Epoch 6/9\n",
      "7982/7982 [==============================] - 1s 174us/step - loss: 0.5129 - acc: 0.8916 - val_loss: 0.9096 - val_acc: 0.8130\n",
      "Epoch 7/9\n",
      "7982/7982 [==============================] - 1s 173us/step - loss: 0.4119 - acc: 0.9143 - val_loss: 0.8924 - val_acc: 0.8200\n",
      "Epoch 8/9\n",
      "7982/7982 [==============================] - 1s 171us/step - loss: 0.3354 - acc: 0.9282 - val_loss: 0.8711 - val_acc: 0.8280\n",
      "Epoch 9/9\n",
      "7982/7982 [==============================] - 1s 171us/step - loss: 0.2783 - acc: 0.9366 - val_loss: 0.9341 - val_acc: 0.8020\n",
      "2246/2246 [==============================] - 0s 156us/step\n",
      "\n",
      " [1.0217035277443918, 0.7782724844698171] \n",
      "\n"
     ]
    }
   ],
   "source": [
    "# после 9 эпохи начинается переобучение\n",
    "\n",
    "model = models.Sequential()\n",
    "model.add(layers.Dense( 64, activation='relu', input_shape=(10000,) ) )\n",
    "model.add(layers.Dense( 64, activation='relu' ) )\n",
    "model.add(layers.Dense( 46, activation='softmax' ) )\n",
    "\n",
    "model.compile(optimizer='rmsprop',\n",
    "             loss='categorical_crossentropy',\n",
    "             metrics=['accuracy'])\n",
    "\n",
    "# разбиваем на обучающую 1000 образцов и проверочную выборку\n",
    "x_val = x_train[:1000]\n",
    "partial_x_train = x_train[1000:]\n",
    "\n",
    "y_val = one_hot_train_labels[:1000]\n",
    "partial_y_train = one_hot_train_labels[1000:]\n",
    "\n",
    "# обучение модели\n",
    "history= model.fit(partial_x_train,\n",
    "                   partial_y_train,\n",
    "                   epochs=9,\n",
    "                   batch_size=512,\n",
    "                   validation_data= (x_val, y_val) )\n",
    "\n",
    "# точность на неизвестных данных\n",
    "results = model.evaluate(x_test, one_hot_test_labels)\n",
    "\n",
    "print('\\n', results, '\\n')"
   ]
  },
  {
   "cell_type": "code",
   "execution_count": 75,
   "metadata": {
    "colab": {
     "base_uri": "https://localhost:8080/",
     "height": 34
    },
    "colab_type": "code",
    "id": "7Pcia82n-Urx",
    "outputId": "d0499d4b-77eb-407a-eb68-977c2ad59146"
   },
   "outputs": [
    {
     "data": {
      "text/plain": [
       "0.19278717720391808"
      ]
     },
     "execution_count": 75,
     "metadata": {
      "tags": []
     },
     "output_type": "execute_result"
    }
   ],
   "source": [
    "# точность случайного решения\n",
    "\n",
    "import copy\n",
    "\n",
    "test_labels_copy = copy.copy(test_labels)\n",
    "np.random.shuffle(test_labels_copy)\n",
    "hist_array = np.array( test_labels ) == np.array( test_labels_copy )\n",
    "float ( np.sum(hist_array) / len(test_labels) )"
   ]
  },
  {
   "cell_type": "code",
   "execution_count": 79,
   "metadata": {
    "colab": {
     "base_uri": "https://localhost:8080/",
     "height": 34
    },
    "colab_type": "code",
    "id": "7ByL6p3X-Uk2",
    "outputId": "3543ca19-92ba-4a7d-febe-8ca17696ec54"
   },
   "outputs": [
    {
     "data": {
      "text/plain": [
       "(46,)"
      ]
     },
     "execution_count": 79,
     "metadata": {
      "tags": []
     },
     "output_type": "execute_result"
    }
   ],
   "source": [
    "predictions = model.predict(x_test)\n",
    "predictions[0].shape"
   ]
  },
  {
   "cell_type": "code",
   "execution_count": 80,
   "metadata": {
    "colab": {
     "base_uri": "https://localhost:8080/",
     "height": 221
    },
    "colab_type": "code",
    "id": "2eVBjqbK-UiK",
    "outputId": "1b909af1-a65c-448c-8f5e-8a9f3c860c69"
   },
   "outputs": [
    {
     "data": {
      "text/plain": [
       "array([9.80283221e-06, 8.17320833e-05, 2.50202374e-05, 9.72354710e-01,\n",
       "       1.62799936e-02, 1.10673433e-07, 9.48292291e-05, 2.91635733e-05,\n",
       "       3.31744831e-03, 2.03397485e-06, 3.04404057e-05, 1.42975687e-03,\n",
       "       5.47872442e-05, 2.58514683e-05, 4.51877986e-06, 1.74847064e-05,\n",
       "       1.00797380e-03, 1.95626897e-04, 2.77358602e-04, 1.22618885e-03,\n",
       "       7.59438728e-04, 4.55007568e-04, 7.15605483e-06, 5.81167915e-05,\n",
       "       1.21557259e-05, 3.22128442e-04, 2.50854509e-06, 2.54914394e-05,\n",
       "       7.36277889e-06, 1.01596415e-04, 3.35810124e-04, 1.94030115e-04,\n",
       "       1.24085445e-05, 3.94501476e-05, 3.44511900e-05, 2.11816332e-05,\n",
       "       1.58490133e-04, 4.52446584e-05, 8.80648513e-05, 2.99275591e-04,\n",
       "       3.66973109e-05, 4.68548009e-04, 1.84685609e-06, 3.36379198e-05,\n",
       "       5.70920156e-06, 9.29642465e-06], dtype=float32)"
      ]
     },
     "execution_count": 80,
     "metadata": {
      "tags": []
     },
     "output_type": "execute_result"
    }
   ],
   "source": [
    "# вектор с вероятностями к принадлежности к каждому из классов\n",
    "predictions[0]"
   ]
  },
  {
   "cell_type": "code",
   "execution_count": 81,
   "metadata": {
    "colab": {
     "base_uri": "https://localhost:8080/",
     "height": 34
    },
    "colab_type": "code",
    "id": "QnVjHssy-UfY",
    "outputId": "871a496c-7c5d-475f-b30b-fc787a2c8494"
   },
   "outputs": [
    {
     "data": {
      "text/plain": [
       "0.99999994"
      ]
     },
     "execution_count": 81,
     "metadata": {
      "tags": []
     },
     "output_type": "execute_result"
    }
   ],
   "source": [
    "np.sum(predictions[0])"
   ]
  },
  {
   "cell_type": "code",
   "execution_count": 83,
   "metadata": {
    "colab": {
     "base_uri": "https://localhost:8080/",
     "height": 34
    },
    "colab_type": "code",
    "id": "y8Nbs1_Kw2Wb",
    "outputId": "42e784bf-861e-47c3-9c60-91dee3aa96c0"
   },
   "outputs": [
    {
     "data": {
      "text/plain": [
       "3"
      ]
     },
     "execution_count": 83,
     "metadata": {
      "tags": []
     },
     "output_type": "execute_result"
    }
   ],
   "source": [
    "# наибольший элемент, элемент с наибольшей вероятностью - это предсказанный класс\n",
    "\n",
    "np.argmax(predictions[0])"
   ]
  },
  {
   "cell_type": "markdown",
   "metadata": {
    "colab_type": "text",
    "id": "6tmmWCxBFaoX"
   },
   "source": [
    "Вариант 2. Кодирование категорий в целые числа"
   ]
  },
  {
   "cell_type": "code",
   "execution_count": 0,
   "metadata": {
    "colab": {},
    "colab_type": "code",
    "id": "e9BYekXdqTWh"
   },
   "outputs": [],
   "source": [
    "y_train = np.array( train_labels )\n",
    "y_test = np.array( test_labels )"
   ]
  },
  {
   "cell_type": "code",
   "execution_count": 87,
   "metadata": {
    "colab": {
     "base_uri": "https://localhost:8080/",
     "height": 1046
    },
    "colab_type": "code",
    "id": "AnmTQLwLFZFj",
    "outputId": "501308ce-d7dd-4090-995d-c12d2b14dae8"
   },
   "outputs": [
    {
     "name": "stdout",
     "output_type": "stream",
     "text": [
      "Train on 7982 samples, validate on 1000 samples\n",
      "Epoch 1/20\n",
      "7982/7982 [==============================] - 2s 304us/step - loss: 2.6363 - acc: 0.5395 - val_loss: 1.7316 - val_acc: 0.6360\n",
      "Epoch 2/20\n",
      "7982/7982 [==============================] - 1s 168us/step - loss: 1.4140 - acc: 0.7102 - val_loss: 1.3000 - val_acc: 0.7140\n",
      "Epoch 3/20\n",
      "7982/7982 [==============================] - 1s 169us/step - loss: 1.0476 - acc: 0.7799 - val_loss: 1.1251 - val_acc: 0.7470\n",
      "Epoch 4/20\n",
      "7982/7982 [==============================] - 1s 168us/step - loss: 0.8248 - acc: 0.8274 - val_loss: 1.0177 - val_acc: 0.7860\n",
      "Epoch 5/20\n",
      "7982/7982 [==============================] - 1s 169us/step - loss: 0.6535 - acc: 0.8649 - val_loss: 0.9527 - val_acc: 0.7950\n",
      "Epoch 6/20\n",
      "7982/7982 [==============================] - 1s 167us/step - loss: 0.5177 - acc: 0.8919 - val_loss: 0.8974 - val_acc: 0.8170\n",
      "Epoch 7/20\n",
      "7982/7982 [==============================] - 1s 166us/step - loss: 0.4134 - acc: 0.9141 - val_loss: 0.8841 - val_acc: 0.8200\n",
      "Epoch 8/20\n",
      "7982/7982 [==============================] - 1s 168us/step - loss: 0.3355 - acc: 0.9292 - val_loss: 0.8929 - val_acc: 0.8090\n",
      "Epoch 9/20\n",
      "7982/7982 [==============================] - 1s 167us/step - loss: 0.2792 - acc: 0.9391 - val_loss: 0.8920 - val_acc: 0.8150\n",
      "Epoch 10/20\n",
      "7982/7982 [==============================] - 1s 167us/step - loss: 0.2355 - acc: 0.9454 - val_loss: 0.9113 - val_acc: 0.8170\n",
      "Epoch 11/20\n",
      "7982/7982 [==============================] - 1s 169us/step - loss: 0.1988 - acc: 0.9509 - val_loss: 0.8834 - val_acc: 0.8190\n",
      "Epoch 12/20\n",
      "7982/7982 [==============================] - 1s 169us/step - loss: 0.1783 - acc: 0.9539 - val_loss: 0.9096 - val_acc: 0.8180\n",
      "Epoch 13/20\n",
      "7982/7982 [==============================] - 1s 169us/step - loss: 0.1612 - acc: 0.9534 - val_loss: 0.9456 - val_acc: 0.8240\n",
      "Epoch 14/20\n",
      "7982/7982 [==============================] - 1s 168us/step - loss: 0.1493 - acc: 0.9550 - val_loss: 0.9420 - val_acc: 0.8150\n",
      "Epoch 15/20\n",
      "7982/7982 [==============================] - 1s 168us/step - loss: 0.1379 - acc: 0.9569 - val_loss: 0.9904 - val_acc: 0.8040\n",
      "Epoch 16/20\n",
      "7982/7982 [==============================] - 1s 167us/step - loss: 0.1325 - acc: 0.9546 - val_loss: 0.9432 - val_acc: 0.8180\n",
      "Epoch 17/20\n",
      "7982/7982 [==============================] - 1s 168us/step - loss: 0.1257 - acc: 0.9585 - val_loss: 0.9873 - val_acc: 0.8170\n",
      "Epoch 18/20\n",
      "7982/7982 [==============================] - 1s 169us/step - loss: 0.1195 - acc: 0.9575 - val_loss: 1.0171 - val_acc: 0.8010\n",
      "Epoch 19/20\n",
      "7982/7982 [==============================] - 1s 169us/step - loss: 0.1191 - acc: 0.9555 - val_loss: 1.0215 - val_acc: 0.8030\n",
      "Epoch 20/20\n",
      "7982/7982 [==============================] - 1s 170us/step - loss: 0.1102 - acc: 0.9587 - val_loss: 1.0453 - val_acc: 0.7990\n"
     ]
    },
    {
     "data": {
      "image/png": "[encoded data removed]",
      "text/plain": [
       "<matplotlib.figure.Figure at 0x7f9daa8fdac8>"
      ]
     },
     "metadata": {
      "tags": []
     },
     "output_type": "display_data"
    }
   ],
   "source": [
    "# меняем функцию потерь на sparse_categorical_crossentropy\n",
    "\n",
    "model = models.Sequential()\n",
    "model.add(layers.Dense( 64, activation='relu', input_shape=(10000,) ) )\n",
    "model.add(layers.Dense( 64, activation='relu' ) )\n",
    "model.add(layers.Dense( 46, activation='softmax' ) )\n",
    "\n",
    "model.compile(optimizer='rmsprop',\n",
    "             loss='sparse_categorical_crossentropy',\n",
    "             metrics=['accuracy'])\n",
    "\n",
    "# разбиваем на обучающую 1000 образцов и проверочную выборку\n",
    "x_val = x_train[:1000]\n",
    "partial_x_train = x_train[1000:]\n",
    "\n",
    "y_val = y_train[:1000]\n",
    "partial_y_train = y_train[1000:]\n",
    "\n",
    "# обучение модели\n",
    "history= model.fit(partial_x_train,\n",
    "                   partial_y_train,\n",
    "                   epochs=20,\n",
    "                   batch_size=512,\n",
    "                   validation_data= (x_val, y_val) )\n",
    "\n",
    "history_dict = history.history\n",
    "history_dict.keys()\n",
    "\n",
    "# графики\n",
    "plt.figure(figsize=(15, 5))\n",
    "\n",
    "plt.subplot(121)\n",
    "# график точности\n",
    "loss_values = history_dict['loss']\n",
    "val_loss_values = history_dict['val_loss']\n",
    "acc_values = history_dict['acc']\n",
    "\n",
    "epochs = range(1, (len(acc_values))+1 )\n",
    "\n",
    "plt.plot(epochs, loss_values, 'bo', label = 'training loss')\n",
    "plt.plot(epochs, val_loss_values, 'b', label = 'validation loss')\n",
    "plt.title( 'training and validation loss' )\n",
    "plt.xlabel('epochs')\n",
    "plt.ylabel('loss')\n",
    "plt.legend()\n",
    "\n",
    "plt.subplot(122)\n",
    "# график потерь\n",
    "acc_values = history_dict['acc']\n",
    "val_acc_values = history_dict['val_acc']\n",
    "\n",
    "epochs = range(1, (len(acc_values))+1 )\n",
    "\n",
    "plt.plot(epochs, acc_values, 'bo', label = 'training acc')\n",
    "plt.plot(epochs, val_acc_values, 'b', label = 'validation acc')\n",
    "plt.title( 'training and validation acc' )\n",
    "plt.xlabel('epochs')\n",
    "plt.ylabel('accuracy')\n",
    "plt.legend()\n",
    "\n",
    "plt.show()"
   ]
  },
  {
   "cell_type": "code",
   "execution_count": 88,
   "metadata": {
    "colab": {
     "base_uri": "https://localhost:8080/",
     "height": 306
    },
    "colab_type": "code",
    "id": "y5KA_Wp8FZTU",
    "outputId": "6bbce355-b8c1-4dc9-a26a-3fcd146459e2"
   },
   "outputs": [
    {
     "name": "stdout",
     "output_type": "stream",
     "text": [
      "Train on 7982 samples, validate on 1000 samples\n",
      "Epoch 1/6\n",
      "7982/7982 [==============================] - 2s 242us/step - loss: 2.5633 - acc: 0.5189 - val_loss: 1.6967 - val_acc: 0.6360\n",
      "Epoch 2/6\n",
      "7982/7982 [==============================] - 1s 170us/step - loss: 1.3902 - acc: 0.7132 - val_loss: 1.2857 - val_acc: 0.7310\n",
      "Epoch 3/6\n",
      "7982/7982 [==============================] - 1s 173us/step - loss: 1.0229 - acc: 0.7824 - val_loss: 1.1212 - val_acc: 0.7740\n",
      "Epoch 4/6\n",
      "7982/7982 [==============================] - 1s 171us/step - loss: 0.8018 - acc: 0.8306 - val_loss: 1.0490 - val_acc: 0.7680\n",
      "Epoch 5/6\n",
      "7982/7982 [==============================] - 1s 173us/step - loss: 0.6356 - acc: 0.8697 - val_loss: 0.9515 - val_acc: 0.8020\n",
      "Epoch 6/6\n",
      "7982/7982 [==============================] - 1s 170us/step - loss: 0.5085 - acc: 0.8924 - val_loss: 0.9121 - val_acc: 0.8040\n",
      "2246/2246 [==============================] - 0s 139us/step\n",
      "\n",
      " [0.967796616753827, 0.7827248441674087] \n",
      "\n"
     ]
    }
   ],
   "source": [
    "# после 6 эпохи начинается переобучение\n",
    "\n",
    "model = models.Sequential()\n",
    "model.add(layers.Dense( 64, activation='relu', input_shape=(10000,) ) )\n",
    "model.add(layers.Dense( 64, activation='relu' ) )\n",
    "model.add(layers.Dense( 46, activation='softmax' ) )\n",
    "\n",
    "model.compile(optimizer='rmsprop',\n",
    "             loss='sparse_categorical_crossentropy',\n",
    "             metrics=['accuracy'])\n",
    "\n",
    "# разбиваем на обучающую 1000 образцов и проверочную выборку\n",
    "x_val = x_train[:1000]\n",
    "partial_x_train = x_train[1000:]\n",
    "\n",
    "y_val = y_train[:1000]\n",
    "partial_y_train = y_train[1000:]\n",
    "\n",
    "# обучение модели\n",
    "history= model.fit(partial_x_train,\n",
    "                   partial_y_train,\n",
    "                   epochs=6,\n",
    "                   batch_size=512,\n",
    "                   validation_data= (x_val, y_val) )\n",
    "\n",
    "# точность на неизвестных данных\n",
    "results = model.evaluate(x_test, y_test)\n",
    "\n",
    "print('\\n', results, '\\n')"
   ]
  },
  {
   "cell_type": "markdown",
   "metadata": {
    "colab_type": "text",
    "id": "NdT6fUmIHVwq"
   },
   "source": [
    "Эксперименты с примером one hot encoding"
   ]
  },
  {
   "cell_type": "code",
   "execution_count": 95,
   "metadata": {
    "colab": {
     "base_uri": "https://localhost:8080/",
     "height": 1114
    },
    "colab_type": "code",
    "id": "-Kq0Ebx6FZQy",
    "outputId": "c199e1bc-2ddb-48e2-aa1c-a5bc5f002576"
   },
   "outputs": [
    {
     "name": "stdout",
     "output_type": "stream",
     "text": [
      "Train on 7982 samples, validate on 1000 samples\n",
      "Epoch 1/20\n",
      "7982/7982 [==============================] - 3s 346us/step - loss: 3.0183 - acc: 0.4521 - val_loss: 2.3359 - val_acc: 0.6060\n",
      "Epoch 2/20\n",
      "7982/7982 [==============================] - 1s 172us/step - loss: 1.9230 - acc: 0.6597 - val_loss: 1.7130 - val_acc: 0.6630\n",
      "Epoch 3/20\n",
      "7982/7982 [==============================] - 1s 171us/step - loss: 1.4400 - acc: 0.7142 - val_loss: 1.4553 - val_acc: 0.6950\n",
      "Epoch 4/20\n",
      "7982/7982 [==============================] - 1s 172us/step - loss: 1.1895 - acc: 0.7418 - val_loss: 1.3294 - val_acc: 0.6990\n",
      "Epoch 5/20\n",
      "7982/7982 [==============================] - 1s 171us/step - loss: 1.0192 - acc: 0.7667 - val_loss: 1.2531 - val_acc: 0.7060\n",
      "Epoch 6/20\n",
      "7982/7982 [==============================] - 1s 174us/step - loss: 0.8809 - acc: 0.7922 - val_loss: 1.1744 - val_acc: 0.7370\n",
      "Epoch 7/20\n",
      "7982/7982 [==============================] - 1s 170us/step - loss: 0.7617 - acc: 0.8176 - val_loss: 1.1213 - val_acc: 0.7430\n",
      "Epoch 8/20\n",
      "7982/7982 [==============================] - 1s 173us/step - loss: 0.6573 - acc: 0.8413 - val_loss: 1.0873 - val_acc: 0.7620\n",
      "Epoch 9/20\n",
      "7982/7982 [==============================] - 1s 173us/step - loss: 0.5637 - acc: 0.8663 - val_loss: 1.0480 - val_acc: 0.7760\n",
      "Epoch 10/20\n",
      "7982/7982 [==============================] - 1s 171us/step - loss: 0.4878 - acc: 0.8891 - val_loss: 1.0249 - val_acc: 0.7880\n",
      "Epoch 11/20\n",
      "7982/7982 [==============================] - 1s 171us/step - loss: 0.4216 - acc: 0.9097 - val_loss: 1.0126 - val_acc: 0.7870\n",
      "Epoch 12/20\n",
      "7982/7982 [==============================] - 1s 170us/step - loss: 0.3639 - acc: 0.9221 - val_loss: 1.0120 - val_acc: 0.7970\n",
      "Epoch 13/20\n",
      "7982/7982 [==============================] - 1s 173us/step - loss: 0.3196 - acc: 0.9328 - val_loss: 1.0075 - val_acc: 0.8030\n",
      "Epoch 14/20\n",
      "7982/7982 [==============================] - 1s 183us/step - loss: 0.2789 - acc: 0.9375 - val_loss: 1.0164 - val_acc: 0.8020\n",
      "Epoch 15/20\n",
      "7982/7982 [==============================] - 1s 184us/step - loss: 0.2493 - acc: 0.9441 - val_loss: 1.0258 - val_acc: 0.7970\n",
      "Epoch 16/20\n",
      "7982/7982 [==============================] - 1s 187us/step - loss: 0.2229 - acc: 0.9461 - val_loss: 1.0276 - val_acc: 0.8100\n",
      "Epoch 17/20\n",
      "7982/7982 [==============================] - 1s 183us/step - loss: 0.2010 - acc: 0.9491 - val_loss: 1.0508 - val_acc: 0.8030\n",
      "Epoch 18/20\n",
      "7982/7982 [==============================] - 1s 175us/step - loss: 0.1808 - acc: 0.9528 - val_loss: 1.1119 - val_acc: 0.7950\n",
      "Epoch 19/20\n",
      "7982/7982 [==============================] - 1s 171us/step - loss: 0.1702 - acc: 0.9524 - val_loss: 1.0640 - val_acc: 0.8040\n",
      "Epoch 20/20\n",
      "7982/7982 [==============================] - 1s 174us/step - loss: 0.1569 - acc: 0.9549 - val_loss: 1.1164 - val_acc: 0.7920\n"
     ]
    },
    {
     "data": {
      "image/png": "[encoded data removed]",
      "text/plain": [
       "<matplotlib.figure.Figure at 0x7f9da7e5efd0>"
      ]
     },
     "metadata": {
      "tags": []
     },
     "output_type": "display_data"
    },
    {
     "name": "stdout",
     "output_type": "stream",
     "text": [
      "\n",
      " [1.5751215148375486, 0.7479964381387376] \n",
      "\n",
      "2246/2246 [==============================] - 0s 151us/step\n"
     ]
    }
   ],
   "source": [
    "model = models.Sequential()\n",
    "model.add(layers.Dense( 64, activation='relu', input_shape=(10000,) ) )\n",
    "model.add(layers.Dense( 16, activation='relu' ) )\n",
    "# model.add(layers.Dense( 64, activation='relu' ) )\n",
    "# model.add(layers.Dense( 64, activation='relu' ) )\n",
    "model.add(layers.Dense( 46, activation='softmax' ) )\n",
    "\n",
    "# вариант 1\n",
    "model.compile(optimizer='rmsprop',\n",
    "             loss='categorical_crossentropy',\n",
    "             metrics=['accuracy'])\n",
    "\n",
    "# разбиваем на обучающую 1000 образцов и проверочную выборку\n",
    "x_val = x_train[:1000]\n",
    "partial_x_train = x_train[1000:]\n",
    "\n",
    "y_val = one_hot_train_labels[:1000]\n",
    "partial_y_train = one_hot_train_labels[1000:]\n",
    "\n",
    "# обучение модели\n",
    "history= model.fit(partial_x_train,\n",
    "                   partial_y_train,\n",
    "                   epochs=20,\n",
    "                   batch_size=512,\n",
    "                   validation_data= (x_val, y_val) )\n",
    "\n",
    "history_dict = history.history\n",
    "history_dict.keys()\n",
    "\n",
    "# графики\n",
    "plt.figure(figsize=(15, 5))\n",
    "\n",
    "plt.subplot(121)\n",
    "# график точности\n",
    "loss_values = history_dict['loss']\n",
    "val_loss_values = history_dict['val_loss']\n",
    "acc_values = history_dict['acc']\n",
    "\n",
    "epochs = range(1, (len(acc_values))+1 )\n",
    "\n",
    "plt.plot(epochs, loss_values, 'bo', label = 'training loss')\n",
    "plt.plot(epochs, val_loss_values, 'b', label = 'validation loss')\n",
    "plt.title( 'training and validation loss' )\n",
    "plt.xlabel('epochs')\n",
    "plt.ylabel('loss')\n",
    "plt.legend()\n",
    "\n",
    "plt.subplot(122)\n",
    "# график потерь\n",
    "acc_values = history_dict['acc']\n",
    "val_acc_values = history_dict['val_acc']\n",
    "\n",
    "epochs = range(1, (len(acc_values))+1 )\n",
    "\n",
    "plt.plot(epochs, acc_values, 'bo', label = 'training acc')\n",
    "plt.plot(epochs, val_acc_values, 'b', label = 'validation acc')\n",
    "plt.title( 'training and validation acc' )\n",
    "plt.xlabel('epochs')\n",
    "plt.ylabel('accuracy')\n",
    "plt.legend()\n",
    "\n",
    "plt.show()\n",
    "\n",
    "print('\\n', results, '\\n')\n",
    "\n",
    "# точность на неизвестных данных\n",
    "results = model.evaluate(x_test, one_hot_test_labels)"
   ]
  },
  {
   "cell_type": "markdown",
   "metadata": {
    "colab_type": "text",
    "id": "019nyokEKMZx"
   },
   "source": [
    "**3.6. Предсказание цен на дома: пример регрессии**"
   ]
  },
  {
   "cell_type": "code",
   "execution_count": null,
   "metadata": {
    "colab": {
     "base_uri": "https://localhost:8080/",
     "height": 187
    },
    "colab_type": "code",
    "id": "A9SFduo_IHOv",
    "outputId": "29e12a7a-97f7-4d1f-88fc-0d770ea73d7d"
   },
   "outputs": [],
   "source": [
    "from keras.datasets import boston_housing\n",
    "\n",
    "(train_data, train_targets), (test_data, test_targets) = boston_housing.load_data()\n",
    "\n",
    "print( train_data.shape )\n",
    "print( test_data.shape )\n",
    "print('\\n')\n",
    "\n",
    "print(train_data[1])\n",
    "print('\\n')\n",
    "\n",
    "print( train_targets[:10])"
   ]
  },
  {
   "cell_type": "code",
   "execution_count": 0,
   "metadata": {
    "colab": {},
    "colab_type": "code",
    "id": "sYgGPSIoFZOu"
   },
   "outputs": [],
   "source": [
    "# нормализация данных\n",
    "\n",
    "mean = train_data.mean(axis=0)\n",
    "train_data -= mean\n",
    "\n",
    "std = train_data.std(axis=0)\n",
    "train_data /= std\n",
    "\n",
    "test_data -= mean\n",
    "test_data /= std"
   ]
  },
  {
   "cell_type": "code",
   "execution_count": 103,
   "metadata": {
    "colab": {
     "base_uri": "https://localhost:8080/",
     "height": 68
    },
    "colab_type": "code",
    "id": "frPc-8gtLV6-",
    "outputId": "e4f9e862-87f9-4e96-9df7-c7ef6948a761"
   },
   "outputs": [
    {
     "name": "stdout",
     "output_type": "stream",
     "text": [
      "[-0.40342651  2.99178419 -1.33391162 -0.25683275 -1.21518188  1.89434613\n",
      " -1.91036058  1.24758524 -0.85646254 -0.34843254 -1.71818909  0.43190599\n",
      " -1.32920239]\n"
     ]
    }
   ],
   "source": [
    "print(train_data[1])"
   ]
  },
  {
   "cell_type": "code",
   "execution_count": 104,
   "metadata": {
    "colab": {
     "base_uri": "https://localhost:8080/",
     "height": 51
    },
    "colab_type": "code",
    "id": "hFVDc-AULWFl",
    "outputId": "28a2bc12-e1a7-4e09-e82e-b3e26808cca2"
   },
   "outputs": [
    {
     "name": "stdout",
     "output_type": "stream",
     "text": [
      "CPU times: user 19 µs, sys: 0 ns, total: 19 µs\n",
      "Wall time: 22.4 µs\n"
     ]
    }
   ],
   "source": [
    "%%time\n",
    "\n",
    "from keras import models\n",
    "from keras import layers\n",
    "\n",
    "def build_model():\n",
    "  model = models.Sequential()\n",
    "  model.add(layers.Dense( 64, activation='relu', input_shape=(train_data.shape[1],) ) )\n",
    "  model.add(layers.Dense( 64, activation='relu' ) )\n",
    "  model.add(layers.Dense( 1, activation='relu' ) )\n",
    "\n",
    "  model.compile(optimizer='rmsprop',\n",
    "               loss='mse',\n",
    "               metrics=['mae'])\n",
    "  return model"
   ]
  },
  {
   "cell_type": "markdown",
   "metadata": {
    "colab_type": "text",
    "id": "Vl_nh6ZxNLq_"
   },
   "source": [
    "*Оценка решения методом перекрестной проверки по K блокам - K-fold cross val*"
   ]
  },
  {
   "cell_type": "code",
   "execution_count": 116,
   "metadata": {
    "colab": {
     "base_uri": "https://localhost:8080/",
     "height": 153
    },
    "colab_type": "code",
    "id": "h92y5mrGLWDI",
    "outputId": "50dccfba-a92b-49a0-8056-db02c0cbac4c"
   },
   "outputs": [
    {
     "name": "stdout",
     "output_type": "stream",
     "text": [
      "processing fold # 0\n",
      "processing fold # 1\n",
      "processing fold # 2\n",
      "processing fold # 3\n",
      "[1.9901380208459232, 2.5296636808036577, 2.676436138625192, 2.3118659092648195]\n",
      "2.377025937384898\n",
      "CPU times: user 2min 46s, sys: 6.38 s, total: 2min 53s\n",
      "Wall time: 2min 19s\n"
     ]
    }
   ],
   "source": [
    "%%time\n",
    "\n",
    "import numpy as np\n",
    "\n",
    "k = 4\n",
    "num__val_samples = len(train_data) // k\n",
    "num_epochs = 100\n",
    "all_scores = []\n",
    "\n",
    "for i in range(k):\n",
    "  \n",
    "  print('processing fold #',i)\n",
    "  \n",
    "  val_data = train_data[ i * num__val_samples : (i+1) * num__val_samples ]\n",
    "  val_targets = train_targets[ i * num__val_samples : (i+1) * num__val_samples ]\n",
    "  \n",
    "  partial_train_data = np.concatenate(\n",
    "    [train_data[ : i * num__val_samples ],\n",
    "     train_data[ (i+1) * num__val_samples: ]],\n",
    "        axis=0)\n",
    "  \n",
    "  partial_train_targets = np.concatenate(\n",
    "    [train_targets[ : i * num__val_samples ],\n",
    "     train_targets[ (i+1) * num__val_samples: ]],\n",
    "        axis=0)\n",
    "  \n",
    "  model = build_model()\n",
    "  \n",
    "  model.fit(partial_train_data,\n",
    "           partial_train_targets,\n",
    "           epochs = num_epochs,\n",
    "           batch_size = 1,\n",
    "           verbose = 0)\n",
    "  \n",
    "  val_mse, val_mae = model.evaluate (val_data,val_targets, verbose = 0)\n",
    "  all_scores.append(val_mae)\n",
    "  \n",
    "print(all_scores)\n",
    "print(np.mean(all_scores))"
   ]
  },
  {
   "cell_type": "code",
   "execution_count": 125,
   "metadata": {
    "colab": {
     "base_uri": "https://localhost:8080/",
     "height": 156
    },
    "colab_type": "code",
    "id": "45mjTE_ULWAj",
    "outputId": "86c1fb3a-0b55-481a-eaed-d538e7296c9e"
   },
   "outputs": [
    {
     "name": "stdout",
     "output_type": "stream",
     "text": [
      "processing fold # 0\n",
      "processing fold # 1\n",
      "processing fold # 2\n",
      "processing fold # 3\n",
      "[10.76897919886183, 3.711028643567176, 2.999863253961695, 2.696285105381075, 2.555678401449726, 2.419833599930943, 2.357642695848698, 2.3153178762681415, 2.2314990483494874, 2.182971165911986, 2.1510131685647242, 2.1321759385244285, 2.1254726978811886, 2.098690119710299, 2.0819715131627454, 2.05062992305252, 2.0359557961473373, 2.0393044344662834, 2.0063371833401544, 1.991836934199821, 1.9472867049793205, 1.947695287147371, 1.9267614159253563, 1.9004066505841297, 1.9268683155771136, 1.8723736950273169, 1.8777923641031724, 1.8393892492398176, 1.8490828889431339, 1.828283142138629, 1.8548081633281395, 1.7970776703491462, 1.7996654604921247, 1.7658700941026013, 1.7847421755491704, 1.7850605815944105, 1.7605047827900047, 1.7389008117587652, 1.7226186251089517, 1.7216160917046046, 1.7133668796850903, 1.6866679315519804, 1.6995161146220594, 1.6675060206513987, 1.6774632387822215, 1.6669709877212449, 1.6503315652557726, 1.6566193217884984, 1.6415975263016451, 1.621603730881568, 1.6067656056322281, 1.6333062294686194, 1.6470514040182134, 1.6103851142102736, 1.609954610909566, 1.5512559390304113, 1.5723008062973276, 1.5590382873421849, 1.5495702008603036, 1.560995927344848, 1.55426552822881, 1.53027881018006, 1.548308747436347, 1.5670502331390632, 1.5349952879518565, 1.5175914250978149, 1.489875556218742, 1.483071221376803, 1.498898445576331, 1.4803327357414926, 1.5448969946836089, 1.476690882306681, 1.4613245178764016, 1.491628913596125, 1.4849214453508357, 1.4491471795752497, 1.4524952312900683, 1.4605770512382583, 1.4223611134507081, 1.454574980751516, 1.4619880635352813, 1.4429086844126382, 1.409699051687033, 1.424661682383849, 1.3997852971451512, 1.4016443288365608, 1.40999174472129, 1.4154737538630418, 1.3781729592348482, 1.3683197415701234, 1.413279929766954, 1.36739712304408, 1.3828978892600183, 1.3435365150470544, 1.348624343525852, 1.3589730223413348, 1.3704597961784588, 1.3368541419309359, 1.347372467761779, 1.3522804869283545, 1.3475209443089198, 1.3599332657584264, 1.3418583267986186, 1.332812307691417, 1.304739546657789, 1.3126662633206585, 1.3101149663673375, 1.2885663745426896, 1.303046959461552, 1.305384100467065, 1.2900862615100621, 1.2688807550043164, 1.247338340424075, 1.2885207592850865, 1.2609511849903825, 1.2599303360425993, 1.2416534252686076, 1.26494831299231, 1.2574589815076822, 1.226675843641703, 1.2543526728554526, 1.2333068182759552, 1.2558993557498794, 1.2226732684047308, 1.2319114957705581, 1.2344238929229208, 1.231597057663568, 1.2256869093419696, 1.222599666307468, 1.2008926260589372, 1.2256899507525731, 1.2028995032357699, 1.2018818452019895, 1.205101727259041, 1.2133419204859845, 1.1795386833326258, 1.214736824185148, 1.1626303536270317, 1.1864432531221472, 1.156600873462438, 1.1861532035440503, 1.1895369019838844, 1.1882967061728926, 1.1666832241681542, 1.1576526365657844, 1.168627604793007, 1.1547458342986532, 1.1391633951624627, 1.1545321052223936, 1.1395284053516073, 1.1428780945220796, 1.1195857210127826, 1.1390469385058966, 1.1195578413827978, 1.1592655429745664, 1.1036310066090953, 1.1515023869649805, 1.1191786330918667, 1.1210316805162839, 1.149678397886824, 1.1072675983111064, 1.1126485767931042, 1.1139304730364985, 1.0866051119546292, 1.118195599061821, 1.0772308638386994, 1.1114165841942967, 1.089935330274475, 1.10588144056081, 1.126422923980373, 1.0926411171557486, 1.0844692961610978, 1.0871188180281384, 1.0813637165346555, 1.0884168053617571, 1.068890649493378, 1.095285722918243, 1.0700494892919812, 1.0651729950810422, 1.07869422612804, 1.061307702520893, 1.0429480992528077, 1.0603106649401952, 1.058656694275318, 1.067264482133066, 1.0440982051021588, 1.051601822423463, 1.0628684550622114, 1.0425262824930375, 1.0552319038425737, 1.052410414706756, 1.055278518412373, 1.037416154205209, 1.0519456416860273, 1.0272336553032249, 1.039403732853754, 1.0215907138172942, 1.0295408132052657, 1.021620489976587, 1.0175940054084602, 1.0434889840607595, 1.02637782545373, 1.0174187083448907, 1.0216240088144937, 1.0352582782015154, 1.0080974233819315, 1.0209945489471108, 1.0226965271206971, 1.0093645955076311, 1.015799063660524, 1.023959956350106, 1.0019389849291382, 1.0228907884937701, 1.0108834099848278, 1.002623987276562, 0.9801693415090983, 1.0054671394549581, 1.002072805421974, 1.0105910515627845, 1.0098256486477237, 0.9894916946345036, 1.0090443916840128, 0.9985485877534344, 0.9769146145373682, 0.999231455349686, 0.9843918535575615, 0.9859221813702347, 1.0005519270110053, 0.9875487691105003, 0.9629907436890177, 0.9658669211683494, 0.9754732174448448, 0.956767460300584, 0.9603099980370047, 0.9693644416607645, 0.9745753704517981, 0.9561795499851995, 0.9956906274600391, 0.975494404043695, 0.9967183340894115, 0.9345433110057717, 0.9598376589639745, 0.9657667452352668, 0.9691867008067594, 0.9516468351036802, 0.963645624642325, 0.9228005133839724, 0.9389008669176511, 0.9700044141744231, 0.9344845160399333, 0.9573849099304023, 0.937819222609202, 0.9333624690279314, 0.9287970205738205, 0.9359176453977529, 0.9495700271216163, 0.9295392402327888, 0.9234134714202126, 0.9423245923353893, 0.9185727911420387, 0.9383322854246636, 0.9129251983299507, 0.9193838952791573, 0.9399103138706472, 0.9389182492451306, 0.9131458035790094, 0.9584462532509277, 0.9148776249917034, 0.9129433187321074, 0.9238856578424032, 0.9395755157612339, 0.9218434661921888, 0.9348881051878725, 0.9224877078147612, 0.9190745182556681, 0.9465873426336661, 0.9366780444733774, 0.9356932187631186, 0.908316417692518, 0.916168208956325, 0.8964012668471132, 0.9267430722516755, 0.9141518717551783, 0.8898624162075937, 0.9098196657183935, 0.9172664286673267, 0.8993160939059243, 0.9057592259775293, 0.9085203068877997, 0.8890214446354228, 0.8906432405950213, 0.8839972721468103, 0.9029525638413508, 0.9009616496932782, 0.8998858545086172, 0.895876392082806, 0.8944502171903554, 0.8799354011076118, 0.8978544623151471, 0.9095338405949054, 0.8873870451458217, 0.8788078116505059, 0.8696540625575352, 0.891687536593711, 0.8976009576627524, 0.9078882255963366, 0.8981562445659448, 0.8865694053495679, 0.8816986213816275, 0.9106968422927478, 0.8989795904741822, 0.882759714874104, 0.8786208936483553, 0.9047340229399526, 0.9014792833784626, 0.8775717785256137, 0.8863544649023427, 0.8805293265742438, 0.8906574119435678, 0.900618320841207, 0.8959920203725102, 0.8861303931415672, 0.8792906779267213, 0.8802197083781655, 0.8681205876983038, 0.8826019626246033, 0.8854739243047859, 0.876033080883152, 0.8705460639676639, 0.8839699773505183, 0.8805136920595326, 0.8668694218786636, 0.8874066316648678, 0.8919381273068216, 0.8932003014945354, 0.8658951991068649, 0.9115912581827774, 0.8865008845974511, 0.9034920273834329, 0.8553191927006536, 0.9010879259691774, 0.8671111525482078, 0.8766759799258544, 0.8772523159241125, 0.8596956840049316, 0.8778873841361244, 0.8380175706970416, 0.8822607006570293, 0.8674190005060077, 0.8973722133305994, 0.8584945937587878, 0.8516302427442948, 0.8923906331801965, 0.8603528320986052, 0.8857441918291274, 0.8765439951773917, 0.8737043799346822, 0.8804458889237331, 0.8648165027693946, 0.8796788703883837, 0.8594071294608289, 0.8895231550282772, 0.8515729512711956, 0.8720466069655843, 0.854763378011118, 0.8397400705727807, 0.8721051849547785, 0.8801509771409995, 0.8647588833723918, 0.863083823482589, 0.8588958598993005, 0.8623826395560412, 0.8608492886272594, 0.8886220500414128, 0.8561072803959988, 0.8667229862496404, 0.8567692635476392, 0.8624219335738581, 0.8787809380210272, 0.8781269932344016, 0.8646787312557989, 0.8535422383755347, 0.8504404466931182, 0.8618442229311851, 0.8815125712860535, 0.8582803900092348, 0.8776347983394912, 0.8899139976344093, 0.8603779089332807, 0.8761673685741109, 0.87230648852811, 0.8592192949634967, 0.880054243720404, 0.878899087606877, 0.8583951753751673, 0.8451611008187725, 0.8897499062440577, 0.8777300514797173, 0.8495445153107344, 0.8894415910881344, 0.8551697256934918, 0.8500150082134964, 0.8903361021882237, 0.8746255529989111, 0.8679269129293588, 0.863020394894943, 0.8746663721481173, 0.9030741466940826, 0.8697359506839967, 0.8804111921354489, 0.8657219522070176, 0.8645885028067989, 0.9033958642396203, 0.8915633771679189, 0.9061660274814063, 0.8791724799489817, 0.8926982490142974, 0.9106934737451005, 0.876585035827687, 0.8770458513360604, 0.8749368820253378, 0.9030576246012949, 0.8664528363608685, 0.8903128138863213, 0.8960528090448663, 0.9033293623735409, 0.8760945517631255, 0.9034174025648891, 0.8713751980180393, 0.8731546374437439, 0.9163290659586588, 0.9111581389660095, 0.9090263465843578, 0.899566906906984, 0.9165134006994392, 0.9013127474108151, 0.9149897316894908, 0.9181052060803958, 0.9407888229924066, 0.891450560525699, 0.9148660933617319, 0.9233236393519362, 0.919492761097332, 0.9074134301431109, 0.9223276984573592, 0.9179250481891947, 0.9336647542789824, 0.9112390594513896, 0.910718022203288, 0.9415583944950167, 0.9155777440999601, 0.9412803712851143, 0.932019334028263, 0.9450338953005599, 0.9472686026749438, 0.9769845101306147, 0.9661391328270286, 0.9592943844622118, 0.9713532293196951, 0.9420957529898917, 0.9675548729723435, 0.9617171267865121, 0.9918328204957566, 0.9582361386160645, 0.9844834523232464, 1.0002732229704905, 1.0137285588204665, 0.9841645420974631, 1.0082928870770798, 0.988099433407925, 1.0405754999752486, 1.0134034855137564, 1.0563490831419187, 1.0291786516460255, 1.082401158392626, 1.0736137791828748, 1.0527872626144106, 1.0335193323616934, 1.1093287471890843, 1.084498408603983, 1.0722515016499132, 1.0855715164650392, 1.1091071827576893, 1.1001141744084877, 1.1441172070235703, 1.101993797635875, 1.1379547325691375, 1.1822776066588097, 1.138922352995416, 1.1696690954390925, 1.2334872598301851, 1.1819591215341398, 1.2365089788688686, 1.2404666627594347, 1.2008240388171507, 1.2453500848792174, 1.2343945550446462, 1.223236852353162, 1.2404148429140398, 1.2213165990196833]\n",
      "CPU times: user 13min 42s, sys: 29 s, total: 14min 11s\n",
      "Wall time: 11min 20s\n"
     ]
    }
   ],
   "source": [
    "%%time\n",
    "\n",
    "num_epochs = 500\n",
    "all_mae_histories = []\n",
    "\n",
    "for i in range(k):\n",
    "  \n",
    "  print('processing fold #',i)\n",
    "  \n",
    "  val_data = train_data[ i * num__val_samples : (i+1) * num__val_samples ]\n",
    "  val_targets = train_targets[ i * num__val_samples : (i+1) * num__val_samples ]\n",
    "  \n",
    "  partial_train_data = np.concatenate(\n",
    "    [train_data[ : i * num__val_samples ],\n",
    "     train_data[ (i+1) * num__val_samples: ]],\n",
    "        axis=0)\n",
    "  \n",
    "  partial_train_targets = np.concatenate(\n",
    "    [train_targets[ : i * num__val_samples ],\n",
    "     train_targets[ (i+1) * num__val_samples: ]],\n",
    "        axis=0)\n",
    "  \n",
    "  model = build_model()\n",
    "  \n",
    "  history = model.fit(partial_train_data,\n",
    "           partial_train_targets,\n",
    "           epochs = num_epochs,\n",
    "           batch_size = 1,\n",
    "           verbose = 0)\n",
    "  mae_history = history.history['mean_absolute_error']\n",
    "  all_mae_histories.append(mae_history)\n",
    "\n",
    "average_mae_history = [\n",
    "    np.mean([x[i] for x in all_mae_histories]) for i in range(num_epochs)]\n",
    "\n",
    "average_mae_history"
   ]
  },
  {
   "cell_type": "code",
   "execution_count": 145,
   "metadata": {
    "colab": {
     "base_uri": "https://localhost:8080/",
     "height": 365
    },
    "colab_type": "code",
    "id": "RQKNVgYKFZMW",
    "outputId": "7855ba67-2b02-4037-e04a-50e7b059e904"
   },
   "outputs": [
    {
     "data": {
      "image/png": "[encoded data removed]",
      "text/plain": [
       "<matplotlib.figure.Figure at 0x7f9da0892780>"
      ]
     },
     "metadata": {
      "tags": []
     },
     "output_type": "display_data"
    }
   ],
   "source": [
    "import matplotlib.pyplot as plt\n",
    "\n",
    "# график точности\n",
    "plt.plot( range(1,len(average_mae_history)+1), average_mae_history)\n",
    "plt.xlabel('epochs')\n",
    "plt.ylabel('validation mae')\n",
    "\n",
    "# plt.xlim((0,500))\n",
    "plt.ylim((0,3))\n",
    "plt.show()"
   ]
  },
  {
   "cell_type": "code",
   "execution_count": 151,
   "metadata": {
    "colab": {
     "base_uri": "https://localhost:8080/",
     "height": 365
    },
    "colab_type": "code",
    "id": "kn7DIf7pFZKT",
    "outputId": "06c8ba71-d73c-4faa-c878-41f61db828ef"
   },
   "outputs": [
    {
     "data": {
      "image/png": "[encoded data removed]",
      "text/plain": [
       "<matplotlib.figure.Figure at 0x7f9da0404d68>"
      ]
     },
     "metadata": {
      "tags": []
     },
     "output_type": "display_data"
    }
   ],
   "source": [
    "# опустим первые 10 замеров\n",
    "# заменим каждую mae оценку экспотенциальным скользящим средним по предыдущим оценкам,\n",
    "# чтобы получить более гладку кривую\n",
    "\n",
    "def smooth_curve(points, factor=0.9):\n",
    "  smoothed_points = []\n",
    "  for point in points:\n",
    "    if smoothed_points:\n",
    "      previous = smoothed_points[-1]\n",
    "      smoothed_points.append( previous * factor + point * (1-factor) )\n",
    "    else:\n",
    "      smoothed_points.append( point )\n",
    "  return smoothed_points\n",
    "\n",
    "smooth_mae_history = smooth_curve (average_mae_history[10:])\n",
    "\n",
    "plt.plot( range(1,len(smooth_mae_history)+1), smooth_mae_history)\n",
    "plt.xlabel('epochs')\n",
    "plt.ylabel('validation mae')\n",
    "\n",
    "plt.xlim((370,380))\n",
    "plt.ylim((0.86,0.88))\n",
    "plt.show()"
   ]
  },
  {
   "cell_type": "markdown",
   "metadata": {
    "colab_type": "text",
    "id": "YjA-wvuskDkE"
   },
   "source": [
    "\n",
    "*Обучение окончательной версии модели:*"
   ]
  },
  {
   "cell_type": "code",
   "execution_count": 153,
   "metadata": {
    "colab": {
     "base_uri": "https://localhost:8080/",
     "height": 85
    },
    "colab_type": "code",
    "id": "cEHG0bC0hRde",
    "outputId": "6963c0c8-c0a5-4daa-ae88-ffa587dcc711"
   },
   "outputs": [
    {
     "name": "stdout",
     "output_type": "stream",
     "text": [
      "102/102 [==============================] - 1s 8ms/step\n",
      "Средняя ошибка =  2.685721892936557  тыс. долларов\n",
      "CPU times: user 17.2 s, sys: 451 ms, total: 17.6 s\n",
      "Wall time: 14.7 s\n"
     ]
    }
   ],
   "source": [
    "%%time\n",
    "\n",
    "# по графику видно минимум ошибки при 374 эпохах\n",
    "model = build_model()\n",
    "model.fit(train_data,\n",
    "         train_targets,\n",
    "         epochs = 374,\n",
    "         batch_size = 16,\n",
    "         verbose = 0)\n",
    "\n",
    "test_mse_score, test_mae_score = model.evaluate( test_data, test_targets)\n",
    "print('Средняя ошибка = ',test_mae_score, ' тыс. долларов')"
   ]
  }
 ],
 "metadata": {
  "accelerator": "TPU",
  "colab": {
   "collapsed_sections": [],
   "name": "Keras_ch_03.ipynb",
   "provenance": [],
   "version": "0.3.2"
  },
  "kernelspec": {
   "display_name": "Python 3",
   "language": "python",
   "name": "python3"
  },
  "language_info": {
   "codemirror_mode": {
    "name": "ipython",
    "version": 3
   },
   "file_extension": ".py",
   "mimetype": "text/x-python",
   "name": "python",
   "nbconvert_exporter": "python",
   "pygments_lexer": "ipython3",
   "version": "3.6.8"
  }
 },
 "nbformat": 4,
 "nbformat_minor": 1
}
